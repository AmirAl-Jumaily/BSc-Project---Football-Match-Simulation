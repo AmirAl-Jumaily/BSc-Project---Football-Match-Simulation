{
 "cells": [
  {
   "cell_type": "code",
   "execution_count": 2,
   "metadata": {},
   "outputs": [],
   "source": [
    "import os, json\n",
    "import pandas as pd\n",
    "\n",
    "import utils as u\n",
    "import etl\n",
    "\n",
    "cfg = u.get_config()\n",
    "data_cfg = u.get_config(\"data\")\n",
    "csv_json_data_dir = f\"{cfg['DIRS']['CSV_OF_JSON_DATA']}\"\n",
    "\n",
    "pd.set_option(\"display.max_columns\", 300)\n",
    "pd.set_option(\"display.max_rows\", 300)"
   ]
  },
  {
   "cell_type": "code",
   "execution_count": 2,
   "metadata": {},
   "outputs": [
    {
     "output_type": "stream",
     "name": "stdout",
     "text": "Total domestic league and UEFA matches: (20528, 55)\nTotal matches in seasons of interest: (9582, 55)\nTotal matches in rounds of interest: (8586, 55)\nTotal matches that have actually been played: (7999, 55)\nTotal matches with at least some stats: (7502, 55)\nProportion of matches with at least one missing data point: 32.4%\nNumber of missing data points: 7301\n"
    },
    {
     "output_type": "display_data",
     "data": {
      "text/plain": "                  league_name\nPremier League           1422\nLigue 1                  1391\nSerie A                  1369\nPrimera Division         1356\nBundesliga 1             1129\nChampions League          454\nEuropa League             381",
      "text/html": "<div>\n<style scoped>\n    .dataframe tbody tr th:only-of-type {\n        vertical-align: middle;\n    }\n\n    .dataframe tbody tr th {\n        vertical-align: top;\n    }\n\n    .dataframe thead th {\n        text-align: right;\n    }\n</style>\n<table border=\"1\" class=\"dataframe\">\n  <thead>\n    <tr style=\"text-align: right;\">\n      <th></th>\n      <th>league_name</th>\n    </tr>\n  </thead>\n  <tbody>\n    <tr>\n      <th>Premier League</th>\n      <td>1422</td>\n    </tr>\n    <tr>\n      <th>Ligue 1</th>\n      <td>1391</td>\n    </tr>\n    <tr>\n      <th>Serie A</th>\n      <td>1369</td>\n    </tr>\n    <tr>\n      <th>Primera Division</th>\n      <td>1356</td>\n    </tr>\n    <tr>\n      <th>Bundesliga 1</th>\n      <td>1129</td>\n    </tr>\n    <tr>\n      <th>Champions League</th>\n      <td>454</td>\n    </tr>\n    <tr>\n      <th>Europa League</th>\n      <td>381</td>\n    </tr>\n  </tbody>\n</table>\n</div>"
     },
     "metadata": {}
    }
   ],
   "source": [
    "match_stats_raw = pd.read_csv(os.path.join(csv_json_data_dir, \"raw/match_stats.csv\"))\n",
    "match_stats_raw = match_stats_raw[(match_stats_raw.league_type == \"League\") | (match_stats_raw.country == \"World\")]\n",
    "print(\"Total domestic league and UEFA matches:\", match_stats_raw.shape)\n",
    "match_stats_raw = match_stats_raw[match_stats_raw.league_season >= 2016]\n",
    "print(\"Total matches in seasons of interest:\", match_stats_raw.shape)\n",
    "match_stats_raw = match_stats_raw[\n",
    "    (match_stats_raw.league_type == \"League\") |\n",
    "    ((match_stats_raw.country == \"World\") & (match_stats_raw.fixture_round.isin(data_cfg[\"WORLD_DATA\"][\"KEY_FIXTURE_ROUNDS\"])))]\n",
    "print(\"Total matches in rounds of interest:\", match_stats_raw.shape)\n",
    "match_stats_raw = match_stats_raw[match_stats_raw.fixture_status == \"Match Finished\"]\n",
    "print(\"Total matches that have actually been played:\", match_stats_raw.shape)\n",
    "match_stats_raw = match_stats_raw[~match_stats_raw[data_cfg['MATCH_STAT']['COLUMNS'][1:]].isna().all(axis=1)]\n",
    "print(\"Total matches with at least some stats:\", match_stats_raw.shape)\n",
    "at_least_one_missing = match_stats_raw[match_stats_raw[data_cfg['MATCH_STAT']['COLUMNS'][1:]].isna().any(axis=1)]\n",
    "print(\"Proportion of matches with at least one missing data point: \", round(len(at_least_one_missing)/len(match_stats_raw), 3)*100, \"%\", sep=\"\")\n",
    "print(\"Number of missing data points:\", at_least_one_missing[data_cfg['MATCH_STAT']['COLUMNS'][1:]].isnull().sum().sum())\n",
    "display(pd.DataFrame(match_stats_raw.league_name.value_counts()))"
   ]
  },
  {
   "cell_type": "code",
   "execution_count": 3,
   "metadata": {},
   "outputs": [
    {
     "output_type": "stream",
     "name": "stdout",
     "text": "(7502, 55) [0 2]\n(7502, 55) [0 0]\n(7502, 55) [24 24]\n(7502, 55) [0 0]\n(7502, 55) [3 3]\n(7502, 55) [2 2]\n(7502, 55) [2 2]\n(7502, 55) [2 2]\n(7502, 55) [1333 1333]\n(7502, 55) [2 2]\n"
    }
   ],
   "source": [
    "match_stats_raw1 = match_stats_raw.copy()\n",
    "# Operations to fill in missing data using other columns\n",
    "# 1) Fix for one match\n",
    "match_stats_raw1.loc[((match_stats_raw1.fixture_id).astype(int) == 21650), 'home_goals'] = 2\n",
    "match_stats_raw1.loc[((match_stats_raw1.fixture_id).astype(int) == 21650), 'away_goals'] = 1\n",
    "match_stats_raw1.loc[((match_stats_raw1.fixture_id).astype(int) == 21650), 'fixture_result_ht'] = '1-0'\n",
    "match_stats_raw1.loc[((match_stats_raw1.fixture_id).astype(int) == 21650), 'fixture_result_ft'] = '2-1'\n",
    "# 2) Fix shots_ont\n",
    "print(match_stats_raw1.shape, match_stats_raw1[[\"home_shots_ont\", \"away_shots_tot\"]].isnull().sum().values)\n",
    "match_stats_raw1['home_shots_tot'].fillna(match_stats_raw1['home_shots_ont'] + match_stats_raw1['home_shots_offt'] + match_stats_raw1['home_shots_bl'], inplace=True)\n",
    "match_stats_raw1['away_shots_tot'].fillna(match_stats_raw1['away_shots_ont'] + match_stats_raw1['away_shots_offt'] + match_stats_raw1['away_shots_bl'], inplace=True)\n",
    "print(match_stats_raw1.shape, match_stats_raw1[[\"home_shots_ont\", \"away_shots_tot\"]].isnull().sum().values)\n",
    "# 3) Fix shots_bl\n",
    "print(match_stats_raw1.shape, match_stats_raw1[[\"home_shots_bl\", \"away_shots_bl\"]].isnull().sum().values)\n",
    "match_stats_raw1['home_shots_bl'].fillna(match_stats_raw1['home_shots_tot'] - (match_stats_raw1['home_shots_ont'] + match_stats_raw1['home_shots_offt']), inplace=True)\n",
    "match_stats_raw1['away_shots_bl'].fillna(match_stats_raw1['away_shots_tot'] - (match_stats_raw1['away_shots_ont'] + match_stats_raw1['away_shots_offt']), inplace=True)\n",
    "print(match_stats_raw1.shape, match_stats_raw1[[\"home_shots_bl\", \"away_shots_bl\"]].isnull().sum().values)\n",
    "# 4) Fix shots_outb\n",
    "print(match_stats_raw1.shape, match_stats_raw1[[\"home_shots_outb\", \"away_shots_outb\"]].isnull().sum().values)\n",
    "match_stats_raw1.loc[match_stats_raw1[\"fixture_id\"]==20592,'home_shots_outb'] = (\n",
    "    match_stats_raw1.loc[match_stats_raw1[\"fixture_id\"]==20592,'home_shots_tot'] - match_stats_raw1.loc[match_stats_raw1[\"fixture_id\"]==20592,'home_shots_inb'])\n",
    "match_stats_raw1.loc[match_stats_raw1[\"fixture_id\"]==20592,'away_shots_outb'] = (\n",
    "    match_stats_raw1.loc[match_stats_raw1[\"fixture_id\"]==20592,'away_shots_tot'] - match_stats_raw1.loc[match_stats_raw1[\"fixture_id\"]==20592,'away_shots_inb'])\n",
    "print(match_stats_raw1.shape, match_stats_raw1[[\"home_shots_outb\", \"away_shots_outb\"]].isnull().sum().values)\n",
    "# 5) Fix shots_inb\n",
    "print(match_stats_raw1.shape, match_stats_raw1[[\"home_shots_inb\", \"away_shots_inb\"]].isnull().sum().values)\n",
    "match_stats_raw1['home_shots_inb'] = (match_stats_raw1['home_shots_tot'] - match_stats_raw1['home_shots_outb'])\n",
    "match_stats_raw1['away_shots_inb'] = (match_stats_raw1['away_shots_tot'] - match_stats_raw1['away_shots_outb'])\n",
    "print(match_stats_raw1.shape, match_stats_raw1[[\"home_shots_inb\", \"away_shots_inb\"]].isnull().sum().values)\n",
    "# 6) Fix passes_pct\n",
    "print(match_stats_raw1.shape, match_stats_raw1[[\"home_passes_pct\", \"away_passes_pct\"]].isnull().sum().values)\n",
    "match_stats_raw1['home_passes_pct'] = (match_stats_raw1['home_passes_acc']/match_stats_raw1['home_passes_tot']).apply(lambda x: round(x, 2))\n",
    "match_stats_raw1['away_passes_pct'] = (match_stats_raw1['away_passes_acc']/match_stats_raw1['away_passes_tot']).apply(lambda x: round(x, 2))\n",
    "print(match_stats_raw1.shape, match_stats_raw1[[\"home_passes_pct\", \"away_passes_pct\"]].isnull().sum().values)"
   ]
  },
  {
   "cell_type": "code",
   "execution_count": 4,
   "metadata": {},
   "outputs": [
    {
     "output_type": "stream",
     "name": "stdout",
     "text": "(7502, 7)\n(7502, 7)\n(7502, 55)\n(7502, 55)\n(7502, 55) [   0    0  233  233 1790 1777]\n(7502, 55) [0 0 0 0 0 0]\nProportion of matches with at least one missing data point: 4.0%\nNumber of missing data points: 552\n"
    },
    {
     "output_type": "display_data",
     "data": {
      "text/plain": "'Showing missing data by columns'"
     },
     "metadata": {}
    },
    {
     "output_type": "display_data",
     "data": {
      "text/plain": "                   0\nhome_shots_inb     2\naway_shots_inb     2\nhome_shots_outb    2\naway_shots_outb    2\nhome_passes_acc    2\naway_passes_acc    2\nhome_passes_tot    2\naway_passes_tot    2\nhome_passes_pct    2\naway_passes_pct    2\nhome_offsides    240\naway_offsides    240\nhome_gksaves      26\naway_gksaves      26",
      "text/html": "<div>\n<style scoped>\n    .dataframe tbody tr th:only-of-type {\n        vertical-align: middle;\n    }\n\n    .dataframe tbody tr th {\n        vertical-align: top;\n    }\n\n    .dataframe thead th {\n        text-align: right;\n    }\n</style>\n<table border=\"1\" class=\"dataframe\">\n  <thead>\n    <tr style=\"text-align: right;\">\n      <th></th>\n      <th>0</th>\n    </tr>\n  </thead>\n  <tbody>\n    <tr>\n      <th>home_shots_inb</th>\n      <td>2</td>\n    </tr>\n    <tr>\n      <th>away_shots_inb</th>\n      <td>2</td>\n    </tr>\n    <tr>\n      <th>home_shots_outb</th>\n      <td>2</td>\n    </tr>\n    <tr>\n      <th>away_shots_outb</th>\n      <td>2</td>\n    </tr>\n    <tr>\n      <th>home_passes_acc</th>\n      <td>2</td>\n    </tr>\n    <tr>\n      <th>away_passes_acc</th>\n      <td>2</td>\n    </tr>\n    <tr>\n      <th>home_passes_tot</th>\n      <td>2</td>\n    </tr>\n    <tr>\n      <th>away_passes_tot</th>\n      <td>2</td>\n    </tr>\n    <tr>\n      <th>home_passes_pct</th>\n      <td>2</td>\n    </tr>\n    <tr>\n      <th>away_passes_pct</th>\n      <td>2</td>\n    </tr>\n    <tr>\n      <th>home_offsides</th>\n      <td>240</td>\n    </tr>\n    <tr>\n      <th>away_offsides</th>\n      <td>240</td>\n    </tr>\n    <tr>\n      <th>home_gksaves</th>\n      <td>26</td>\n    </tr>\n    <tr>\n      <th>away_gksaves</th>\n      <td>26</td>\n    </tr>\n  </tbody>\n</table>\n</div>"
     },
     "metadata": {}
    },
    {
     "output_type": "display_data",
     "data": {
      "text/plain": "'Missing offsides data by competition:\\n'"
     },
     "metadata": {}
    },
    {
     "output_type": "display_data",
     "data": {
      "text/plain": "                  league_name\nLigue 1                    67\nPremier League             53\nSerie A                    41\nBundesliga 1               37\nPrimera Division           26\nChampions League           10\nEuropa League               6",
      "text/html": "<div>\n<style scoped>\n    .dataframe tbody tr th:only-of-type {\n        vertical-align: middle;\n    }\n\n    .dataframe tbody tr th {\n        vertical-align: top;\n    }\n\n    .dataframe thead th {\n        text-align: right;\n    }\n</style>\n<table border=\"1\" class=\"dataframe\">\n  <thead>\n    <tr style=\"text-align: right;\">\n      <th></th>\n      <th>league_name</th>\n    </tr>\n  </thead>\n  <tbody>\n    <tr>\n      <th>Ligue 1</th>\n      <td>67</td>\n    </tr>\n    <tr>\n      <th>Premier League</th>\n      <td>53</td>\n    </tr>\n    <tr>\n      <th>Serie A</th>\n      <td>41</td>\n    </tr>\n    <tr>\n      <th>Bundesliga 1</th>\n      <td>37</td>\n    </tr>\n    <tr>\n      <th>Primera Division</th>\n      <td>26</td>\n    </tr>\n    <tr>\n      <th>Champions League</th>\n      <td>10</td>\n    </tr>\n    <tr>\n      <th>Europa League</th>\n      <td>6</td>\n    </tr>\n  </tbody>\n</table>\n</div>"
     },
     "metadata": {}
    },
    {
     "output_type": "display_data",
     "data": {
      "text/plain": "'Missing gksaves data by competition:\\n'"
     },
     "metadata": {}
    },
    {
     "output_type": "display_data",
     "data": {
      "text/plain": "                  league_name\nPremier League              6\nSerie A                     5\nPrimera Division            5\nLigue 1                     5\nEuropa League               2\nBundesliga 1                2\nChampions League            1",
      "text/html": "<div>\n<style scoped>\n    .dataframe tbody tr th:only-of-type {\n        vertical-align: middle;\n    }\n\n    .dataframe tbody tr th {\n        vertical-align: top;\n    }\n\n    .dataframe thead th {\n        text-align: right;\n    }\n</style>\n<table border=\"1\" class=\"dataframe\">\n  <thead>\n    <tr style=\"text-align: right;\">\n      <th></th>\n      <th>league_name</th>\n    </tr>\n  </thead>\n  <tbody>\n    <tr>\n      <th>Premier League</th>\n      <td>6</td>\n    </tr>\n    <tr>\n      <th>Serie A</th>\n      <td>5</td>\n    </tr>\n    <tr>\n      <th>Primera Division</th>\n      <td>5</td>\n    </tr>\n    <tr>\n      <th>Ligue 1</th>\n      <td>5</td>\n    </tr>\n    <tr>\n      <th>Europa League</th>\n      <td>2</td>\n    </tr>\n    <tr>\n      <th>Bundesliga 1</th>\n      <td>2</td>\n    </tr>\n    <tr>\n      <th>Champions League</th>\n      <td>1</td>\n    </tr>\n  </tbody>\n</table>\n</div>"
     },
     "metadata": {}
    },
    {
     "output_type": "display_data",
     "data": {
      "text/plain": "'Missing shots/passed data by competition:\\n'"
     },
     "metadata": {}
    },
    {
     "output_type": "display_data",
     "data": {
      "text/plain": "                  league_name\nSerie A                     1\nPrimera Division            1",
      "text/html": "<div>\n<style scoped>\n    .dataframe tbody tr th:only-of-type {\n        vertical-align: middle;\n    }\n\n    .dataframe tbody tr th {\n        vertical-align: top;\n    }\n\n    .dataframe thead th {\n        text-align: right;\n    }\n</style>\n<table border=\"1\" class=\"dataframe\">\n  <thead>\n    <tr style=\"text-align: right;\">\n      <th></th>\n      <th>league_name</th>\n    </tr>\n  </thead>\n  <tbody>\n    <tr>\n      <th>Serie A</th>\n      <td>1</td>\n    </tr>\n    <tr>\n      <th>Primera Division</th>\n      <td>1</td>\n    </tr>\n  </tbody>\n</table>\n</div>"
     },
     "metadata": {}
    }
   ],
   "source": [
    "match_stats_raw2 = match_stats_raw1.copy()\n",
    "# Operations to fill in missing data using match events data\n",
    "# 1) Setup of counts form match_events\n",
    "match_events_count_clean = pd.read_csv(os.path.join(csv_json_data_dir, \"clean/match_events_count.csv\"))\n",
    "match_events_count_clean = match_events_count_clean.assign(\n",
    "    home_goals = (match_events_count_clean['home_normal_goal'] + match_events_count_clean['home_own_goal'] + match_events_count_clean['home_penalty']),\n",
    "    away_goals = (match_events_count_clean['away_normal_goal'] + match_events_count_clean['away_own_goal'] + match_events_count_clean['away_penalty']))\n",
    "key_match_counts = match_events_count_clean[['fixture_id', 'home_goals', 'away_goals', 'home_red_card', 'home_yellow_card','away_red_card', 'away_yellow_card']]\n",
    "relevant_fixture_ids = match_stats_raw2.fixture_id.unique().tolist()\n",
    "key_match_counts = key_match_counts.loc[key_match_counts.fixture_id.isin(relevant_fixture_ids)].copy().reset_index(drop=True)\n",
    "print(key_match_counts.shape)\n",
    "key_match_counts.sort_values(by='fixture_id', inplace=True)\n",
    "print(key_match_counts.shape)\n",
    "print(match_stats_raw2.shape)\n",
    "match_stats_raw2.reset_index(drop=True, inplace=True)\n",
    "match_stats_raw2.sort_values(by='fixture_id', inplace=True)\n",
    "print(match_stats_raw2.shape)\n",
    "# 2) Fill in data\n",
    "print(match_stats_raw2.shape, match_stats_raw2[[\"home_goals\", \"away_goals\", \"home_yc\", \"away_yc\", \"home_rc\", \"away_rc\"]].isnull().sum().values)\n",
    "match_stats_raw2 = match_stats_raw2.assign(\n",
    "    home_goals=key_match_counts['home_goals'], home_rc=key_match_counts['home_red_card'], home_yc=key_match_counts['home_yellow_card'],\n",
    "    away_goals=key_match_counts['away_goals'], away_rc=key_match_counts['away_red_card'], away_yc=key_match_counts['away_yellow_card'])\n",
    "print(match_stats_raw2.shape, match_stats_raw2[[\"home_goals\", \"away_goals\", \"home_yc\", \"away_yc\", \"home_rc\", \"away_rc\"]].isnull().sum().values)\n",
    "match_stats_raw2_nulls = pd.DataFrame(match_stats_raw2[data_cfg['MATCH_STAT']['COLUMNS'][1:]].isnull().sum())\n",
    "at_least_one_missing2 = match_stats_raw2[match_stats_raw2[data_cfg['MATCH_STAT']['COLUMNS'][1:]].isna().any(axis=1)]\n",
    "print(\"Proportion of matches with at least one missing data point: \", round(len(at_least_one_missing2)/len(match_stats_raw), 2)*100, \"%\", sep=\"\")\n",
    "print(\"Number of missing data points:\", at_least_one_missing2[data_cfg['MATCH_STAT']['COLUMNS'][1:]].isnull().sum().sum())\n",
    "display(\"Showing missing data by columns\", pd.DataFrame(match_stats_raw2_nulls[match_stats_raw2_nulls[0]>0]))\n",
    "display(\"Missing offsides data by competition:\\n\", pd.DataFrame(match_stats_raw2[match_stats_raw2.home_offsides.isnull()].league_name.value_counts()))\n",
    "display(\"Missing gksaves data by competition:\\n\", pd.DataFrame(match_stats_raw2[match_stats_raw2.home_gksaves.isnull()].league_name.value_counts()))\n",
    "display(\"Missing shots/passed data by competition:\\n\", pd.DataFrame(match_stats_raw2[match_stats_raw2.home_passes_tot.isnull()].league_name.value_counts()))"
   ]
  },
  {
   "cell_type": "code",
   "execution_count": 5,
   "metadata": {},
   "outputs": [
    {
     "output_type": "stream",
     "name": "stdout",
     "text": "Total matches before filtering by what teams are playing: (7502, 55)\n"
    },
    {
     "output_type": "display_data",
     "data": {
      "text/plain": "                  league_name\nChampions League          454\nEuropa League             381",
      "text/html": "<div>\n<style scoped>\n    .dataframe tbody tr th:only-of-type {\n        vertical-align: middle;\n    }\n\n    .dataframe tbody tr th {\n        vertical-align: top;\n    }\n\n    .dataframe thead th {\n        text-align: right;\n    }\n</style>\n<table border=\"1\" class=\"dataframe\">\n  <thead>\n    <tr style=\"text-align: right;\">\n      <th></th>\n      <th>league_name</th>\n    </tr>\n  </thead>\n  <tbody>\n    <tr>\n      <th>Champions League</th>\n      <td>454</td>\n    </tr>\n    <tr>\n      <th>Europa League</th>\n      <td>381</td>\n    </tr>\n  </tbody>\n</table>\n</div>"
     },
     "metadata": {}
    },
    {
     "output_type": "stream",
     "name": "stdout",
     "text": "Total matches where at least one team is from one of the 5 major European Leagues: (7270, 55)\n"
    },
    {
     "output_type": "display_data",
     "data": {
      "text/plain": "                  league_name\nChampions League          396\nEuropa League             207",
      "text/html": "<div>\n<style scoped>\n    .dataframe tbody tr th:only-of-type {\n        vertical-align: middle;\n    }\n\n    .dataframe tbody tr th {\n        vertical-align: top;\n    }\n\n    .dataframe thead th {\n        text-align: right;\n    }\n</style>\n<table border=\"1\" class=\"dataframe\">\n  <thead>\n    <tr style=\"text-align: right;\">\n      <th></th>\n      <th>league_name</th>\n    </tr>\n  </thead>\n  <tbody>\n    <tr>\n      <th>Champions League</th>\n      <td>396</td>\n    </tr>\n    <tr>\n      <th>Europa League</th>\n      <td>207</td>\n    </tr>\n  </tbody>\n</table>\n</div>"
     },
     "metadata": {}
    },
    {
     "output_type": "stream",
     "name": "stdout",
     "text": "Total matches where BOTH teams are from one of the 5 major European Leagues: (6864, 55)\n"
    },
    {
     "output_type": "display_data",
     "data": {
      "text/plain": "                  league_name\nChampions League          162\nEuropa League              35",
      "text/html": "<div>\n<style scoped>\n    .dataframe tbody tr th:only-of-type {\n        vertical-align: middle;\n    }\n\n    .dataframe tbody tr th {\n        vertical-align: top;\n    }\n\n    .dataframe thead th {\n        text-align: right;\n    }\n</style>\n<table border=\"1\" class=\"dataframe\">\n  <thead>\n    <tr style=\"text-align: right;\">\n      <th></th>\n      <th>league_name</th>\n    </tr>\n  </thead>\n  <tbody>\n    <tr>\n      <th>Champions League</th>\n      <td>162</td>\n    </tr>\n    <tr>\n      <th>Europa League</th>\n      <td>35</td>\n    </tr>\n  </tbody>\n</table>\n</div>"
     },
     "metadata": {}
    }
   ],
   "source": [
    "match_stats_raw3 = match_stats_raw2.copy()\n",
    "# Operations to only keep matches of teams of interest\n",
    "key_team_ids = u.get_ids_of_key_teams()\n",
    "print(\"Total matches before filtering by what teams are playing:\", match_stats_raw3.shape)\n",
    "display(pd.DataFrame(match_stats_raw3[match_stats_raw3.country == \"World\"].league_name.value_counts()))\n",
    "# 1) Matches with at least one team of interest playing\n",
    "match_stats_raw3 = match_stats_raw3[(match_stats_raw3['home_team_id'].isin(key_team_ids)) | (match_stats_raw3['away_team_id'].isin(key_team_ids))].copy()\n",
    "print(\"Total matches where at least one team is from one of the 5 major European Leagues:\", match_stats_raw3.shape)\n",
    "display(pd.DataFrame(match_stats_raw3[match_stats_raw3.country == \"World\"].league_name.value_counts()))\n",
    "# 2) Matches where both teams playing are of interest\n",
    "match_stats_raw3 = match_stats_raw3[(match_stats_raw3['home_team_id'].isin(key_team_ids)) & (match_stats_raw3['away_team_id'].isin(key_team_ids))].copy()\n",
    "print(\"Total matches where BOTH teams are from one of the 5 major European Leagues:\", match_stats_raw3.shape)\n",
    "display(pd.DataFrame(match_stats_raw3[match_stats_raw3.country == \"World\"].league_name.value_counts()))"
   ]
  },
  {
   "cell_type": "code",
   "execution_count": 6,
   "metadata": {},
   "outputs": [
    {
     "output_type": "stream",
     "name": "stdout",
     "text": "\nTotal number of UEFA matches: (2274, 55) Breakdown:\n"
    },
    {
     "output_type": "display_data",
     "data": {
      "text/plain": "        league_name  league_season  ngames\n7     Europa League           2019     490\n6     Europa League           2018     519\n5     Europa League           2017     205\n4     Europa League           2016     205\n3  Champions League           2019     203\n2  Champions League           2018     216\n1  Champions League           2017     219\n0  Champions League           2016     217",
      "text/html": "<div>\n<style scoped>\n    .dataframe tbody tr th:only-of-type {\n        vertical-align: middle;\n    }\n\n    .dataframe tbody tr th {\n        vertical-align: top;\n    }\n\n    .dataframe thead th {\n        text-align: right;\n    }\n</style>\n<table border=\"1\" class=\"dataframe\">\n  <thead>\n    <tr style=\"text-align: right;\">\n      <th></th>\n      <th>league_name</th>\n      <th>league_season</th>\n      <th>ngames</th>\n    </tr>\n  </thead>\n  <tbody>\n    <tr>\n      <th>7</th>\n      <td>Europa League</td>\n      <td>2019</td>\n      <td>490</td>\n    </tr>\n    <tr>\n      <th>6</th>\n      <td>Europa League</td>\n      <td>2018</td>\n      <td>519</td>\n    </tr>\n    <tr>\n      <th>5</th>\n      <td>Europa League</td>\n      <td>2017</td>\n      <td>205</td>\n    </tr>\n    <tr>\n      <th>4</th>\n      <td>Europa League</td>\n      <td>2016</td>\n      <td>205</td>\n    </tr>\n    <tr>\n      <th>3</th>\n      <td>Champions League</td>\n      <td>2019</td>\n      <td>203</td>\n    </tr>\n    <tr>\n      <th>2</th>\n      <td>Champions League</td>\n      <td>2018</td>\n      <td>216</td>\n    </tr>\n    <tr>\n      <th>1</th>\n      <td>Champions League</td>\n      <td>2017</td>\n      <td>219</td>\n    </tr>\n    <tr>\n      <th>0</th>\n      <td>Champions League</td>\n      <td>2016</td>\n      <td>217</td>\n    </tr>\n  </tbody>\n</table>\n</div>"
     },
     "metadata": {}
    },
    {
     "output_type": "stream",
     "name": "stdout",
     "text": "\nTotal UEFA matches in seasons of interest: (2274, 55) Breakdown:\n"
    },
    {
     "output_type": "display_data",
     "data": {
      "text/plain": "        league_name  league_season  ngames  matches_lost\n7     Europa League           2019     490             0\n6     Europa League           2018     519             0\n5     Europa League           2017     205             0\n4     Europa League           2016     205             0\n3  Champions League           2019     203             0\n2  Champions League           2018     216             0\n1  Champions League           2017     219             0\n0  Champions League           2016     217             0",
      "text/html": "<div>\n<style scoped>\n    .dataframe tbody tr th:only-of-type {\n        vertical-align: middle;\n    }\n\n    .dataframe tbody tr th {\n        vertical-align: top;\n    }\n\n    .dataframe thead th {\n        text-align: right;\n    }\n</style>\n<table border=\"1\" class=\"dataframe\">\n  <thead>\n    <tr style=\"text-align: right;\">\n      <th></th>\n      <th>league_name</th>\n      <th>league_season</th>\n      <th>ngames</th>\n      <th>matches_lost</th>\n    </tr>\n  </thead>\n  <tbody>\n    <tr>\n      <th>7</th>\n      <td>Europa League</td>\n      <td>2019</td>\n      <td>490</td>\n      <td>0</td>\n    </tr>\n    <tr>\n      <th>6</th>\n      <td>Europa League</td>\n      <td>2018</td>\n      <td>519</td>\n      <td>0</td>\n    </tr>\n    <tr>\n      <th>5</th>\n      <td>Europa League</td>\n      <td>2017</td>\n      <td>205</td>\n      <td>0</td>\n    </tr>\n    <tr>\n      <th>4</th>\n      <td>Europa League</td>\n      <td>2016</td>\n      <td>205</td>\n      <td>0</td>\n    </tr>\n    <tr>\n      <th>3</th>\n      <td>Champions League</td>\n      <td>2019</td>\n      <td>203</td>\n      <td>0</td>\n    </tr>\n    <tr>\n      <th>2</th>\n      <td>Champions League</td>\n      <td>2018</td>\n      <td>216</td>\n      <td>0</td>\n    </tr>\n    <tr>\n      <th>1</th>\n      <td>Champions League</td>\n      <td>2017</td>\n      <td>219</td>\n      <td>0</td>\n    </tr>\n    <tr>\n      <th>0</th>\n      <td>Champions League</td>\n      <td>2016</td>\n      <td>217</td>\n      <td>0</td>\n    </tr>\n  </tbody>\n</table>\n</div>"
     },
     "metadata": {}
    },
    {
     "output_type": "stream",
     "name": "stdout",
     "text": "\nTotal UEFA matches in rounds of interest: (1278, 55) Breakdown:\n"
    },
    {
     "output_type": "display_data",
     "data": {
      "text/plain": "        league_name  league_season  ngames  matches_lost\n7     Europa League           2019     176           314\n6     Europa League           2018     205           314\n5     Europa League           2017     205             0\n4     Europa League           2016     205             0\n3  Champions League           2019     112            91\n2  Champions League           2018     125            91\n1  Champions League           2017     125            94\n0  Champions League           2016     125            92",
      "text/html": "<div>\n<style scoped>\n    .dataframe tbody tr th:only-of-type {\n        vertical-align: middle;\n    }\n\n    .dataframe tbody tr th {\n        vertical-align: top;\n    }\n\n    .dataframe thead th {\n        text-align: right;\n    }\n</style>\n<table border=\"1\" class=\"dataframe\">\n  <thead>\n    <tr style=\"text-align: right;\">\n      <th></th>\n      <th>league_name</th>\n      <th>league_season</th>\n      <th>ngames</th>\n      <th>matches_lost</th>\n    </tr>\n  </thead>\n  <tbody>\n    <tr>\n      <th>7</th>\n      <td>Europa League</td>\n      <td>2019</td>\n      <td>176</td>\n      <td>314</td>\n    </tr>\n    <tr>\n      <th>6</th>\n      <td>Europa League</td>\n      <td>2018</td>\n      <td>205</td>\n      <td>314</td>\n    </tr>\n    <tr>\n      <th>5</th>\n      <td>Europa League</td>\n      <td>2017</td>\n      <td>205</td>\n      <td>0</td>\n    </tr>\n    <tr>\n      <th>4</th>\n      <td>Europa League</td>\n      <td>2016</td>\n      <td>205</td>\n      <td>0</td>\n    </tr>\n    <tr>\n      <th>3</th>\n      <td>Champions League</td>\n      <td>2019</td>\n      <td>112</td>\n      <td>91</td>\n    </tr>\n    <tr>\n      <th>2</th>\n      <td>Champions League</td>\n      <td>2018</td>\n      <td>125</td>\n      <td>91</td>\n    </tr>\n    <tr>\n      <th>1</th>\n      <td>Champions League</td>\n      <td>2017</td>\n      <td>125</td>\n      <td>94</td>\n    </tr>\n    <tr>\n      <th>0</th>\n      <td>Champions League</td>\n      <td>2016</td>\n      <td>125</td>\n      <td>92</td>\n    </tr>\n  </tbody>\n</table>\n</div>"
     },
     "metadata": {}
    },
    {
     "output_type": "stream",
     "name": "stdout",
     "text": "\nTotal UEFA matches that have actually been played: (1274, 55) Breakdown:\n"
    },
    {
     "output_type": "display_data",
     "data": {
      "text/plain": "        league_name  league_season  ngames  matches_lost\n7     Europa League           2019     176             0\n6     Europa League           2018     205             0\n5     Europa League           2017     205             0\n4     Europa League           2016     205             0\n3  Champions League           2019     108             4\n2  Champions League           2018     125             0\n1  Champions League           2017     125             0\n0  Champions League           2016     125             0",
      "text/html": "<div>\n<style scoped>\n    .dataframe tbody tr th:only-of-type {\n        vertical-align: middle;\n    }\n\n    .dataframe tbody tr th {\n        vertical-align: top;\n    }\n\n    .dataframe thead th {\n        text-align: right;\n    }\n</style>\n<table border=\"1\" class=\"dataframe\">\n  <thead>\n    <tr style=\"text-align: right;\">\n      <th></th>\n      <th>league_name</th>\n      <th>league_season</th>\n      <th>ngames</th>\n      <th>matches_lost</th>\n    </tr>\n  </thead>\n  <tbody>\n    <tr>\n      <th>7</th>\n      <td>Europa League</td>\n      <td>2019</td>\n      <td>176</td>\n      <td>0</td>\n    </tr>\n    <tr>\n      <th>6</th>\n      <td>Europa League</td>\n      <td>2018</td>\n      <td>205</td>\n      <td>0</td>\n    </tr>\n    <tr>\n      <th>5</th>\n      <td>Europa League</td>\n      <td>2017</td>\n      <td>205</td>\n      <td>0</td>\n    </tr>\n    <tr>\n      <th>4</th>\n      <td>Europa League</td>\n      <td>2016</td>\n      <td>205</td>\n      <td>0</td>\n    </tr>\n    <tr>\n      <th>3</th>\n      <td>Champions League</td>\n      <td>2019</td>\n      <td>108</td>\n      <td>4</td>\n    </tr>\n    <tr>\n      <th>2</th>\n      <td>Champions League</td>\n      <td>2018</td>\n      <td>125</td>\n      <td>0</td>\n    </tr>\n    <tr>\n      <th>1</th>\n      <td>Champions League</td>\n      <td>2017</td>\n      <td>125</td>\n      <td>0</td>\n    </tr>\n    <tr>\n      <th>0</th>\n      <td>Champions League</td>\n      <td>2016</td>\n      <td>125</td>\n      <td>0</td>\n    </tr>\n  </tbody>\n</table>\n</div>"
     },
     "metadata": {}
    },
    {
     "output_type": "stream",
     "name": "stdout",
     "text": "\nTotal UEFA matches with at least some stats: (835, 55) Breakdown:\nTotal UEFA matches with stats in the corrected stats df: (835, 55)\n"
    },
    {
     "output_type": "display_data",
     "data": {
      "text/plain": "        league_name  league_season  ngames  matches_lost\n5     Europa League           2019     176             0\n4     Europa League           2018     205             0\n3  Champions League           2019     108             0\n2  Champions League           2018     125             0\n1  Champions League           2017      96            29\n0  Champions League           2016     125             0",
      "text/html": "<div>\n<style scoped>\n    .dataframe tbody tr th:only-of-type {\n        vertical-align: middle;\n    }\n\n    .dataframe tbody tr th {\n        vertical-align: top;\n    }\n\n    .dataframe thead th {\n        text-align: right;\n    }\n</style>\n<table border=\"1\" class=\"dataframe\">\n  <thead>\n    <tr style=\"text-align: right;\">\n      <th></th>\n      <th>league_name</th>\n      <th>league_season</th>\n      <th>ngames</th>\n      <th>matches_lost</th>\n    </tr>\n  </thead>\n  <tbody>\n    <tr>\n      <th>5</th>\n      <td>Europa League</td>\n      <td>2019</td>\n      <td>176</td>\n      <td>0</td>\n    </tr>\n    <tr>\n      <th>4</th>\n      <td>Europa League</td>\n      <td>2018</td>\n      <td>205</td>\n      <td>0</td>\n    </tr>\n    <tr>\n      <th>3</th>\n      <td>Champions League</td>\n      <td>2019</td>\n      <td>108</td>\n      <td>0</td>\n    </tr>\n    <tr>\n      <th>2</th>\n      <td>Champions League</td>\n      <td>2018</td>\n      <td>125</td>\n      <td>0</td>\n    </tr>\n    <tr>\n      <th>1</th>\n      <td>Champions League</td>\n      <td>2017</td>\n      <td>96</td>\n      <td>29</td>\n    </tr>\n    <tr>\n      <th>0</th>\n      <td>Champions League</td>\n      <td>2016</td>\n      <td>125</td>\n      <td>0</td>\n    </tr>\n  </tbody>\n</table>\n</div>"
     },
     "metadata": {}
    },
    {
     "output_type": "stream",
     "name": "stdout",
     "text": "Showing how many null values are in our final dataset\n"
    },
    {
     "output_type": "display_data",
     "data": {
      "text/plain": "                0\nhome_offsides  16\naway_offsides  16\nhome_gksaves    3\naway_gksaves    3",
      "text/html": "<div>\n<style scoped>\n    .dataframe tbody tr th:only-of-type {\n        vertical-align: middle;\n    }\n\n    .dataframe tbody tr th {\n        vertical-align: top;\n    }\n\n    .dataframe thead th {\n        text-align: right;\n    }\n</style>\n<table border=\"1\" class=\"dataframe\">\n  <thead>\n    <tr style=\"text-align: right;\">\n      <th></th>\n      <th>0</th>\n    </tr>\n  </thead>\n  <tbody>\n    <tr>\n      <th>home_offsides</th>\n      <td>16</td>\n    </tr>\n    <tr>\n      <th>away_offsides</th>\n      <td>16</td>\n    </tr>\n    <tr>\n      <th>home_gksaves</th>\n      <td>3</td>\n    </tr>\n    <tr>\n      <th>away_gksaves</th>\n      <td>3</td>\n    </tr>\n  </tbody>\n</table>\n</div>"
     },
     "metadata": {}
    }
   ],
   "source": [
    "# Investigating how many of the UEFA competition matches we have and how much we lose due to data issues\n",
    "match_stats_uefa = pd.read_csv(os.path.join(csv_json_data_dir, \"raw/match_stats.csv\"))\n",
    "match_stats_uefa = match_stats_uefa[(match_stats_uefa.country == \"World\")]\n",
    "print(\"\\nTotal number of UEFA matches:\", match_stats_uefa.shape, \"Breakdown:\")\n",
    "uefa_grouped1 = match_stats_uefa.groupby(by=[\"league_name\", \"league_season\"]).count()[[\"fixture_id\"]].rename(columns={\"fixture_id\":\"ngames\"}).reset_index().sort_values(by=[\"league_name\", \"league_season\"], ascending=False)\n",
    "display(pd.DataFrame(uefa_grouped1))\n",
    "\n",
    "match_stats_uefa = match_stats_uefa[match_stats_uefa.league_season >= 2016].copy()\n",
    "print(\"\\nTotal UEFA matches in seasons of interest:\", match_stats_uefa.shape, \"Breakdown:\")\n",
    "uefa_grouped2 = match_stats_uefa.groupby(by=[\"league_name\", \"league_season\"]).count()[[\"fixture_id\"]].rename(columns={\"fixture_id\":\"ngames\"}).reset_index().sort_values(by=[\"league_name\", \"league_season\"], ascending=False)\n",
    "uefa_grouped2[\"matches_lost\"] = uefa_grouped1[\"ngames\"].values - uefa_grouped2[\"ngames\"].values\n",
    "display(uefa_grouped2)\n",
    "\n",
    "match_stats_uefa = match_stats_uefa[match_stats_uefa.fixture_round.isin(data_cfg[\"WORLD_DATA\"][\"KEY_FIXTURE_ROUNDS\"])]\n",
    "print(\"\\nTotal UEFA matches in rounds of interest:\", match_stats_uefa.shape, \"Breakdown:\")\n",
    "uefa_grouped3 = match_stats_uefa.groupby(by=[\"league_name\", \"league_season\"]).count()[[\"fixture_id\"]].rename(columns={\"fixture_id\":\"ngames\"}).reset_index().sort_values(by=[\"league_name\", \"league_season\"], ascending=False)\n",
    "uefa_grouped3[\"matches_lost\"] = uefa_grouped2[\"ngames\"].values - uefa_grouped3[\"ngames\"].values\n",
    "display(uefa_grouped3)\n",
    "\n",
    "match_stats_uefa = match_stats_uefa[match_stats_uefa.fixture_status == \"Match Finished\"]\n",
    "print(\"\\nTotal UEFA matches that have actually been played:\", match_stats_uefa.shape, \"Breakdown:\")\n",
    "uefa_grouped4 = match_stats_uefa.groupby(by=[\"league_name\", \"league_season\"]).count()[[\"fixture_id\"]].rename(columns={\"fixture_id\":\"ngames\"}).reset_index().sort_values(by=[\"league_name\", \"league_season\"], ascending=False)\n",
    "uefa_grouped4[\"matches_lost\"] = uefa_grouped3[\"ngames\"].values - uefa_grouped4[\"ngames\"].values\n",
    "display(uefa_grouped4)\n",
    "\n",
    "uefa_dropped = match_stats_uefa[match_stats_uefa[data_cfg['MATCH_STAT']['COLUMNS'][1:]].isna().all(axis=1)]\n",
    "match_stats_uefa = match_stats_uefa[~match_stats_uefa[data_cfg['MATCH_STAT']['COLUMNS'][1:]].isna().all(axis=1)]\n",
    "print(\"\\nTotal UEFA matches with at least some stats:\", match_stats_uefa.shape, \"Breakdown:\")\n",
    "print(\"Total UEFA matches with stats in the corrected stats df:\", match_stats_raw2[match_stats_raw2.country == \"World\"].shape)\n",
    "match_stats_uefa = match_stats_raw2[match_stats_raw2.country == \"World\"].copy()\n",
    "uefa_grouped5 = match_stats_uefa.groupby(by=[\"league_name\", \"league_season\"]).count()[[\"fixture_id\"]].rename(columns={\"fixture_id\":\"ngames\"}).reset_index().sort_values(by=[\"league_name\", \"league_season\"], ascending=False)\n",
    "uefa_grouped5[\"matches_lost\"] = uefa_grouped4.loc[[6,7,0,1,2,3],].sort_values(by=[\"league_name\", \"league_season\"], ascending=False)[\"ngames\"].values - uefa_grouped5[\"ngames\"].values\n",
    "display(uefa_grouped5)\n",
    "print(\"Showing how many null values are in our final dataset\")\n",
    "uefa_null = pd.DataFrame(match_stats_raw2[match_stats_raw2.country == \"World\"][data_cfg['MATCH_STAT']['COLUMNS'][1:]].isnull().sum())\n",
    "display(uefa_null[uefa_null[0]>0])"
   ]
  },
  {
   "cell_type": "code",
   "execution_count": 7,
   "metadata": {},
   "outputs": [
    {
     "output_type": "stream",
     "name": "stdout",
     "text": "Total matches before filtering by what teams are playing: (439, 55)\n"
    },
    {
     "output_type": "display_data",
     "data": {
      "text/plain": "                  league_name\nEuropa League             410\nChampions League           29",
      "text/html": "<div>\n<style scoped>\n    .dataframe tbody tr th:only-of-type {\n        vertical-align: middle;\n    }\n\n    .dataframe tbody tr th {\n        vertical-align: top;\n    }\n\n    .dataframe thead th {\n        text-align: right;\n    }\n</style>\n<table border=\"1\" class=\"dataframe\">\n  <thead>\n    <tr style=\"text-align: right;\">\n      <th></th>\n      <th>league_name</th>\n    </tr>\n  </thead>\n  <tbody>\n    <tr>\n      <th>Europa League</th>\n      <td>410</td>\n    </tr>\n    <tr>\n      <th>Champions League</th>\n      <td>29</td>\n    </tr>\n  </tbody>\n</table>\n</div>"
     },
     "metadata": {}
    },
    {
     "output_type": "stream",
     "name": "stdout",
     "text": "Total matches where at least one team is from one of the 5 major European Leagues: (257, 55)\n"
    },
    {
     "output_type": "display_data",
     "data": {
      "text/plain": "                  league_name\nEuropa League             228\nChampions League           29",
      "text/html": "<div>\n<style scoped>\n    .dataframe tbody tr th:only-of-type {\n        vertical-align: middle;\n    }\n\n    .dataframe tbody tr th {\n        vertical-align: top;\n    }\n\n    .dataframe thead th {\n        text-align: right;\n    }\n</style>\n<table border=\"1\" class=\"dataframe\">\n  <thead>\n    <tr style=\"text-align: right;\">\n      <th></th>\n      <th>league_name</th>\n    </tr>\n  </thead>\n  <tbody>\n    <tr>\n      <th>Europa League</th>\n      <td>228</td>\n    </tr>\n    <tr>\n      <th>Champions League</th>\n      <td>29</td>\n    </tr>\n  </tbody>\n</table>\n</div>"
     },
     "metadata": {}
    },
    {
     "output_type": "stream",
     "name": "stdout",
     "text": "Total matches where BOTH teams are from one of the 5 major European Leagues: (68, 55)\n"
    },
    {
     "output_type": "display_data",
     "data": {
      "text/plain": "                  league_name\nEuropa League              47\nChampions League           21",
      "text/html": "<div>\n<style scoped>\n    .dataframe tbody tr th:only-of-type {\n        vertical-align: middle;\n    }\n\n    .dataframe tbody tr th {\n        vertical-align: top;\n    }\n\n    .dataframe thead th {\n        text-align: right;\n    }\n</style>\n<table border=\"1\" class=\"dataframe\">\n  <thead>\n    <tr style=\"text-align: right;\">\n      <th></th>\n      <th>league_name</th>\n    </tr>\n  </thead>\n  <tbody>\n    <tr>\n      <th>Europa League</th>\n      <td>47</td>\n    </tr>\n    <tr>\n      <th>Champions League</th>\n      <td>21</td>\n    </tr>\n  </tbody>\n</table>\n</div>"
     },
     "metadata": {}
    }
   ],
   "source": [
    "# Investigating how many UEFA matches dropped for not having data had teams of interest (df defined above)\n",
    "# Operations to only keep matches of teams of interest\n",
    "key_team_ids = u.get_ids_of_key_teams()\n",
    "print(\"Total matches before filtering by what teams are playing:\", uefa_dropped.shape)\n",
    "display(pd.DataFrame(uefa_dropped.league_name.value_counts()))\n",
    "# 1) Matches with at least one team of interest playing\n",
    "uefa_dropped = uefa_dropped[(uefa_dropped['home_team_id'].isin(key_team_ids)) | (uefa_dropped['away_team_id'].isin(key_team_ids))].copy()\n",
    "print(\"Total matches where at least one team is from one of the 5 major European Leagues:\", uefa_dropped.shape)\n",
    "display(pd.DataFrame(uefa_dropped.league_name.value_counts()))\n",
    "# 2) Matches where both teams playing are of interest\n",
    "uefa_dropped = uefa_dropped[(uefa_dropped['home_team_id'].isin(key_team_ids)) & (uefa_dropped['away_team_id'].isin(key_team_ids))].copy()\n",
    "print(\"Total matches where BOTH teams are from one of the 5 major European Leagues:\", uefa_dropped.shape)\n",
    "display(pd.DataFrame(uefa_dropped.league_name.value_counts()))"
   ]
  },
  {
   "cell_type": "markdown",
   "metadata": {},
   "source": [
    "## Matches that were not played"
   ],
   "execution_count": null,
   "outputs": []
  },
  {
   "cell_type": "code",
   "execution_count": 8,
   "metadata": {},
   "outputs": [
    {
     "output_type": "stream",
     "name": "stdout",
     "text": "(20528, 55)\n(9582, 55)\n(587, 55)\nTrue\n"
    },
    {
     "output_type": "display_data",
     "data": {
      "text/plain": "'Postponed'"
     },
     "metadata": {}
    },
    {
     "output_type": "display_data",
     "data": {
      "text/plain": "                  league_name\nSerie A                    26\nLigue 1                    23\nBundesliga 1               16\nPrimera Division           15\nPremier League              8",
      "text/html": "<div>\n<style scoped>\n    .dataframe tbody tr th:only-of-type {\n        vertical-align: middle;\n    }\n\n    .dataframe tbody tr th {\n        vertical-align: top;\n    }\n\n    .dataframe thead th {\n        text-align: right;\n    }\n</style>\n<table border=\"1\" class=\"dataframe\">\n  <thead>\n    <tr style=\"text-align: right;\">\n      <th></th>\n      <th>league_name</th>\n    </tr>\n  </thead>\n  <tbody>\n    <tr>\n      <th>Serie A</th>\n      <td>26</td>\n    </tr>\n    <tr>\n      <th>Ligue 1</th>\n      <td>23</td>\n    </tr>\n    <tr>\n      <th>Bundesliga 1</th>\n      <td>16</td>\n    </tr>\n    <tr>\n      <th>Primera Division</th>\n      <td>15</td>\n    </tr>\n    <tr>\n      <th>Premier League</th>\n      <td>8</td>\n    </tr>\n  </tbody>\n</table>\n</div>"
     },
     "metadata": {}
    },
    {
     "output_type": "stream",
     "name": "stdout",
     "text": "88\n"
    },
    {
     "output_type": "display_data",
     "data": {
      "text/plain": "'COVID-19'"
     },
     "metadata": {}
    },
    {
     "output_type": "display_data",
     "data": {
      "text/plain": "                  league_name\nSerie A                   113\nPrimera Division          110\nLigue 1                   101\nPremier League             90\nBundesliga 1               81\nChampions League            4",
      "text/html": "<div>\n<style scoped>\n    .dataframe tbody tr th:only-of-type {\n        vertical-align: middle;\n    }\n\n    .dataframe tbody tr th {\n        vertical-align: top;\n    }\n\n    .dataframe thead th {\n        text-align: right;\n    }\n</style>\n<table border=\"1\" class=\"dataframe\">\n  <thead>\n    <tr style=\"text-align: right;\">\n      <th></th>\n      <th>league_name</th>\n    </tr>\n  </thead>\n  <tbody>\n    <tr>\n      <th>Serie A</th>\n      <td>113</td>\n    </tr>\n    <tr>\n      <th>Primera Division</th>\n      <td>110</td>\n    </tr>\n    <tr>\n      <th>Ligue 1</th>\n      <td>101</td>\n    </tr>\n    <tr>\n      <th>Premier League</th>\n      <td>90</td>\n    </tr>\n    <tr>\n      <th>Bundesliga 1</th>\n      <td>81</td>\n    </tr>\n    <tr>\n      <th>Champions League</th>\n      <td>4</td>\n    </tr>\n  </tbody>\n</table>\n</div>"
     },
     "metadata": {}
    },
    {
     "output_type": "stream",
     "name": "stdout",
     "text": "499\n"
    }
   ],
   "source": [
    "# How many games were not played due to postponement versus COVID-19\n",
    "matches_unplayed = pd.read_csv(os.path.join(csv_json_data_dir, \"raw/match_stats.csv\"))\n",
    "matches_unplayed = matches_unplayed[(matches_unplayed.league_type == \"League\") | (matches_unplayed.country == \"World\")]\n",
    "print(matches_unplayed.shape)\n",
    "matches_unplayed = matches_unplayed[matches_unplayed.league_season >= 2016]\n",
    "print(matches_unplayed.shape)\n",
    "matches_unplayed = matches_unplayed[~(matches_unplayed.fixture_status == \"Match Finished\")]\n",
    "print(matches_unplayed.shape)\n",
    "# Seperate unplayed matches by category. Group matches into those that were delayed and those from gameweeks where league play had already ceased.\n",
    "matches_unplayed = matches_unplayed[matches_unplayed.fixture_status != \"Match Cancelled\"] # Two cancelled games unimportant\n",
    "before_march = matches_unplayed.fixture_date.apply(lambda x: int(x.split(\"/\")[1])<3)\n",
    "during_march = matches_unplayed.fixture_date.apply(lambda x: int(x.split(\"/\")[1])==3)\n",
    "after_march = matches_unplayed.fixture_date.apply(lambda x: int(x.split(\"/\")[1])>3)\n",
    "before_twelfth = matches_unplayed.fixture_date.apply(lambda x: int(x.split(\"/\")[0])<12)\n",
    "\n",
    "matches_unplayed_postponed = matches_unplayed[before_march | (during_march & before_twelfth)]\n",
    "matches_unplayed_covid = matches_unplayed[(after_march) | (during_march & (~before_twelfth))]\n",
    "\n",
    "print(len(matches_unplayed_postponed) + len(matches_unplayed_covid) == len(matches_unplayed))\n",
    "display(\"Postponed\", pd.DataFrame(matches_unplayed_postponed.league_name.value_counts()))\n",
    "print(matches_unplayed_postponed.league_name.value_counts().sum())\n",
    "display(\"COVID-19\", pd.DataFrame(matches_unplayed_covid.league_name.value_counts()))\n",
    "print(matches_unplayed_covid.league_name.value_counts().sum())"
   ]
  },
  {
   "cell_type": "markdown",
   "metadata": {},
   "source": [
    "## Extra code to find important games with missing data"
   ]
  },
  {
   "cell_type": "code",
   "execution_count": null,
   "metadata": {},
   "outputs": [],
   "source": [
    "match_stats_raw[(~match_stats_raw.has_match_stats) & (match_stats_raw.fixture_status == \"Match Finished\") & (match_stats_raw.league_type==\"League\") &(match_stats_raw.league_season>2015)]"
   ]
  },
  {
   "cell_type": "markdown",
   "metadata": {},
   "source": [
    "# Data Description"
   ]
  },
  {
   "cell_type": "code",
   "execution_count": 11,
   "metadata": {},
   "outputs": [],
   "source": [
    "# match_stats_clean = pd.read_csv(os.path.join(csv_json_data_dir, \"clean/match_stats.csv\"))\n",
    "\n",
    "# Data below has included the domestic cup games of interest. To get the data from the line above just remove the condition in line 172 of etl.py (... | ((match_stats_csv.league_type == \"Cup\") & (match_stats_csv.country != \"World\")))\n",
    "match_stats_clean2 = pd.read_csv(os.path.join(csv_json_data_dir, \"clean/match_stats.csv\"))"
   ]
  },
  {
   "cell_type": "code",
   "execution_count": 10,
   "metadata": {
    "tags": [
     "outputPrepend"
    ]
   },
   "outputs": [
    {
     "output_type": "stream",
     "name": "stdout",
     "text": "Data dimensions: (7343, 54)\nKey Competitions: ['Premier League' 'Bundesliga 1' 'Serie A' 'Primera Division' 'Ligue 1'\n 'Champions League' 'Europa League']\nNumber of Domestic Cup Competitions: 0\nGames per league:\n                   fixture_id\nleague_name                 \nBundesliga 1            1144\nChampions League         396\nEuropa League            207\nLigue 1                 1413\nPremier League          1428\nPrimera Division        1371\nSerie A                 1384\nGames per season:\n                fixture_id\nleague_season            \n2016                 1932\n2017                 1850\n2018                 2056\n2019                 1505\nGames per league season:\n                                 fixture_id\nleague_season league_name                 \n2016          Bundesliga 1             306\n              Champions League         107\n              Ligue 1                  379\n              Premier League           380\n              Primera Division         380\n              Serie A                  380\n2017          Bundesliga 1             306\n              Champions League          80\n              Ligue 1                  375\n              Premier League           380\n              Primera Division         341\n              Serie A                  368\n2018          Bundesliga 1             308\n              Champions League         111\n              Europa League            117\n              Ligue 1                  380\n              Premier League           380\n              Primera Division         380\n              Serie A                  380\n2019          Bundesliga 1             224\n              Champions League          98\n              Europa League             90\n              Ligue 1                  279\n              Premier League           288\n              Primera Division         270\n              Serie A                  256\nHome games for most popular teams:\n               home_team_name  fixture_id_x  fixture_id_y\n0                  Tottenham            88            88\n1            Atletico Madrid            88            85\n2                   Juventus            87            87\n3                     Napoli            87            86\n4                    Chelsea            87            84\n5                  Barcelona            87            86\n6                    Arsenal            87            86\n7                Real Madrid            86            86\n8                    Sevilla            85            87\n9            Manchester City            85            88\n10       Paris Saint Germain            85            85\n11                 Liverpool            85            85\n12         Manchester United            84            83\n13                    Monaco            83            82\n14                  Valencia            81            81\n15                      Lyon            81            81\n16                   AS Roma            80            80\n17             Bayern Munich            79            79\n18         Borussia Dortmund            79            80\n19                     Inter            78            78\n20                    Rennes            78            79\n21                     Lazio            77            76\n22                 Leicester            77            76\n23          Bayer Leverkusen            76            75\n24                Villarreal            75            75\n25                     Lille            75            72\n26       Eintracht Frankfurt            74            74\n27             Saint Etienne            74            74\n28                 Marseille            74            74\n29                RB Leipzig            73            74\n30                  Bordeaux            73            75\n31                  Atalanta            72            73\n32            Crystal Palace            72            71\n33                  AC Milan            72            73\n34               Southampton            72            71\n35                      Nice            72            70\n36                    Angers            72            69\n37                   Burnley            72            71\n38                  West Ham            71            72\n39                    Nantes            71            71\n40                   Everton            71            72\n41                   Watford            71            72\n42                     Dijon            71            70\n43               Montpellier            71            71\n44               Bournemouth            71            72\n45                  Sassuolo            70            68\n46  Borussia Monchengladbach            70            69\n47                   Bologna            70            70\n48                 Sampdoria            70            67\n49                Real Betis            70            66\n50                  Toulouse            70            71\n51                  Cagliari            70            68\n52                  Espanyol            70            74\n53             Real Sociedad            69            70\n54                   Udinese            69            69\n55                Fiorentina            69            69\n56                   Leganes            69            69\n57             Athletic Club            69            69\n58                     Eibar            68            70\n59             VfL Wolfsburg            68            67\n60                    Torino            68            69\n61             FC Schalke 04            68            67\n62                     Genoa            68            71\n63                Celta Vigo            68            69\n64           1899 Hoffenheim            67            66\n65                    Alaves            67            69\n66             Hertha Berlin            64            63\n67              FSV Mainz 05            64            63\n68               FC Augsburg            63            64\n69               SC Freiburg            63            64\n70             Werder Bremen            62            64\n71                  Guingamp            57            57\n72                    Chievo            56            57\n73                      Caen            56            57\n74                    Getafe            54            54\n75                  Brighton            52            53\n76                 Newcastle            52            53\n77                      Metz            52            52\n78                    Amiens            51            52\n79                Strasbourg            51            52\n80                      Spal            50            52\nMost common scorelines:\n                    fixture_id\nfixture_result_ft            \n1-1                       830\n2-1                       696\n1-0                       694\n2-0                       549\n0-1                       523\n0-0                       498\n1-2                       492\n2-2                       371\n3-0                       352\n3-1                       335\n0-2                       317\n1-3                       192\n0-3                       174\n3-2                       164\n4-0                       158\n2-3                       140\n4-1                       119\n1-4                        86\n3-3                        79\n0-4                        76\n5-0                        75\n4-2                        60\n5-1                        50\n2-4                        45\n0-5                        32\n1-5                        27\n6-0                        24\n4-3                        23\n5-2                        19\n3-4                        18\n6-1                        16\n2-5                        14\n2-6                        10\n0-6                         9\n4-4                         9\n7-1                         8\n6-2                         8\n3-5                         7\n5-3                         7\n7-0                         5\n8-0                         4\n1-6                         4\n5-4                         4\n6-3                         3\n0-7                         3\n1-7                         2\n2-7                         2\n4-5                         1\n6-4                         1\n3-6                         1\n0-9                         1\n7-2                         1\n7-3                         1\n8-1                         1\n8-2                         1\n8-4                         1\n9-0                         1\n"
    }
   ],
   "source": [
    "print(\"Data dimensions:\", match_stats_clean.shape)\n",
    "print(\"Key Competitions:\", match_stats_clean[(match_stats_clean.country == \"World\") | (match_stats_clean.league_type == \"League\")].league_name.unique())\n",
    "print(\"Number of Domestic Cup Competitions:\", len(match_stats_clean[(match_stats_clean.country != \"World\") & (match_stats_clean.league_type==\"Cup\")].league_name.unique()))\n",
    "print(\"Games per league:\\n\", match_stats_clean.groupby(\"league_name\").count()[[\"fixture_id\"]])\n",
    "print(\"Games per season:\\n\", match_stats_clean.groupby(\"league_season\").count()[[\"fixture_id\"]])\n",
    "print(\"Games per league season:\\n\", match_stats_clean.groupby([\"league_season\", \"league_name\"]).count()[[\"fixture_id\"]])\n",
    "print(\"Home games for most popular teams:\\n\", match_stats_clean.groupby([\"home_team_name\"]).count()[[\"fixture_id\"]].reset_index().merge(match_stats_clean.groupby([\"away_team_name\"]).count()[[\"fixture_id\"]].reset_index(), left_on=\"home_team_name\", right_on=\"away_team_name\", how=\"outer\")[[\"home_team_name\", \"fixture_id_x\", \"fixture_id_y\"]].sort_values(by=\"fixture_id_x\", ascending = False).reset_index(drop=True).loc[:80,])\n",
    "print(\"Most common scorelines:\\n\", match_stats_clean.groupby([\"fixture_result_ft\"]).count()[[\"fixture_id\"]].sort_values(by=\"fixture_id\", ascending=False))"
   ]
  },
  {
   "cell_type": "code",
   "execution_count": 12,
   "metadata": {},
   "outputs": [
    {
     "output_type": "stream",
     "name": "stdout",
     "text": "Data dimensions: (7606, 54)\nKey Competitions: ['Premier League' 'Bundesliga 1' 'Serie A' 'Primera Division' 'Ligue 1'\n 'Champions League' 'Europa League']\nNumber of Domestic Cup Competitions: 7\nGames per league:\n                    fixture_id\nleague_name                  \nBundesliga 1             1144\nChampions League          396\nCopa del Rey               51\nCoppa Italia               54\nCoupe de France            40\nCoupe de la Ligue          21\nDFB Pokal                  52\nEuropa League             207\nFA Cup                     29\nLeague Cup                 16\nLigue 1                  1413\nPremier League           1428\nPrimera Division         1371\nSerie A                  1384\nGames per season:\n                fixture_id\nleague_season            \n2016                 1987\n2017                 1868\n2018                 2177\n2019                 1574\nGames per league season:\n                                  fixture_id\nleague_season league_name                  \n2016          Bundesliga 1              306\n              Champions League          107\n              Coppa Italia               17\n              Coupe de France            14\n              Coupe de la Ligue           8\n              DFB Pokal                  16\n              Ligue 1                   379\n              Premier League            380\n              Primera Division          380\n              Serie A                   380\n2017          Bundesliga 1              306\n              Champions League           80\n              Coppa Italia                3\n              Coupe de France             9\n              DFB Pokal                   6\n              Ligue 1                   375\n              Premier League            380\n              Primera Division          341\n              Serie A                   368\n2018          Bundesliga 1              308\n              Champions League          111\n              Copa del Rey               41\n              Coppa Italia               18\n              Coupe de France            15\n              Coupe de la Ligue          12\n              DFB Pokal                  19\n              Europa League             117\n              FA Cup                     16\n              Ligue 1                   380\n              Premier League            380\n              Primera Division          380\n              Serie A                   380\n2019          Bundesliga 1              224\n              Champions League           98\n              Copa del Rey               10\n              Coppa Italia               16\n              Coupe de France             2\n              Coupe de la Ligue           1\n              DFB Pokal                  11\n              Europa League              90\n              FA Cup                     13\n              League Cup                 16\n              Ligue 1                   279\n              Premier League            288\n              Primera Division          270\n              Serie A                   256\nHome games for most popular teams:\n               home_team_name  fixture_id_x  fixture_id_y\n0        Paris Saint Germain          94.0            93\n1                   Juventus          93.0            91\n2                  Barcelona          92.0            90\n3            Manchester City          91.0            90\n4                     Napoli          91.0            89\n5                     Monaco          90.0            85\n6                  Tottenham          90.0            91\n7                Real Madrid          90.0            89\n8                    Chelsea          89.0            85\n9            Atletico Madrid          89.0            86\n10                   Sevilla          88.0            89\n11                   Arsenal          88.0            88\n12                 Liverpool          87.0            87\n13                      Lyon          86.0            88\n14         Manchester United          86.0            89\n15                     Inter          85.0            78\n16             Bayern Munich          84.0            83\n17                  Valencia          84.0            86\n18                    Rennes          84.0            82\n19         Borussia Dortmund          84.0            83\n20                   AS Roma          82.0            84\n21                     Lazio          80.0            83\n22          Bayer Leverkusen          79.0            76\n23                  AC Milan          78.0            76\n24                 Leicester          78.0            79\n25                RB Leipzig          77.0            78\n26                 Marseille          77.0            77\n27       Eintracht Frankfurt          77.0            76\n28                  Atalanta          76.0            77\n29                     Lille          76.0            75\n30                Villarreal          76.0            78\n31             Saint Etienne          76.0            75\n32                  Bordeaux          76.0            77\n33                    Angers          75.0            69\n34                   Watford          74.0            75\n35                 Sampdoria          74.0            69\n36               Southampton          74.0            73\n37               Montpellier          73.0            72\n38            Crystal Palace          73.0            72\n39                   Everton          73.0            73\n40                   Bologna          73.0            72\n41             Real Sociedad          73.0            73\n42                    Nantes          73.0            75\n43                Fiorentina          73.0            73\n44                Real Betis          73.0            70\n45  Borussia Monchengladbach          73.0            72\n46               Bournemouth          73.0            72\n47                   Burnley          73.0            72\n48                  Toulouse          73.0            72\n49                  Espanyol          72.0            77\n50                      Nice          72.0            72\n51                     Dijon          72.0            72\n52                  West Ham          72.0            72\n53             Athletic Club          72.0            71\n54                  Cagliari          72.0            71\n55             FC Schalke 04          71.0            70\n56                   Leganes          71.0            72\n57                   Udinese          70.0            70\n58                  Sassuolo          70.0            69\n59             VfL Wolfsburg          70.0            70\n60                    Torino          70.0            71\n61                     Genoa          69.0            73\n62                     Eibar          69.0            71\n63                Celta Vigo          69.0            70\n64                    Alaves          68.0            70\n65           1899 Hoffenheim          67.0            70\n66             Hertha Berlin          66.0            66\n67               FC Augsburg          65.0            65\n68             Werder Bremen          65.0            66\n69               SC Freiburg          64.0            64\n70              FSV Mainz 05          64.0            64\n71                      Caen          59.0            60\n72                  Guingamp          59.0            62\n73                    Chievo          58.0            58\n74                    Getafe          56.0            56\n75                 Newcastle          54.0            53\n76                  Brighton          54.0            56\n77                Strasbourg          54.0            55\n78                    Amiens          53.0            52\n79                      Metz          53.0            54\n80                      Spal          51.0            53\nMost common scorelines:\n                    fixture_id\nfixture_result_ft            \n1-1                       861\n2-1                       726\n1-0                       716\n2-0                       569\n0-1                       534\n1-2                       506\n0-0                       506\n2-2                       388\n3-0                       364\n3-1                       345\n0-2                       331\n1-3                       204\n0-3                       179\n3-2                       172\n4-0                       164\n2-3                       147\n4-1                       124\n1-4                        88\n3-3                        82\n5-0                        80\n0-4                        78\n4-2                        63\n5-1                        51\n2-4                        45\n0-5                        33\n1-5                        27\n6-0                        25\n4-3                        24\n5-2                        19\n3-4                        19\n6-1                        18\n2-5                        14\n2-6                        10\n0-6                         9\n7-1                         9\n4-4                         9\n6-2                         9\n5-3                         7\n7-0                         7\n3-5                         7\n1-6                         7\n5-4                         4\n8-0                         4\n0-7                         3\n6-3                         3\n2-7                         2\n1-7                         2\n3-6                         2\n4-5                         1\n6-4                         1\n0-9                         1\n7-2                         1\n7-3                         1\n5-5                         1\n8-1                         1\n8-2                         1\n8-4                         1\n9-0                         1\n"
    }
   ],
   "source": [
    "print(\"Data dimensions:\", match_stats_clean2.shape)\n",
    "print(\"Key Competitions:\", match_stats_clean2[(match_stats_clean2.country == \"World\") | (match_stats_clean2.league_type == \"League\")].league_name.unique())\n",
    "print(\"Number of Domestic Cup Competitions:\", len(match_stats_clean2[(match_stats_clean2.country != \"World\") & (match_stats_clean2.league_type==\"Cup\")].league_name.unique()))\n",
    "print(\"Games per league:\\n\", match_stats_clean2.groupby(\"league_name\").count()[[\"fixture_id\"]])\n",
    "print(\"Games per season:\\n\", match_stats_clean2.groupby(\"league_season\").count()[[\"fixture_id\"]])\n",
    "print(\"Games per league season:\\n\", match_stats_clean2.groupby([\"league_season\", \"league_name\"]).count()[[\"fixture_id\"]])\n",
    "print(\"Home games for most popular teams:\\n\", match_stats_clean2.groupby([\"home_team_name\"]).count()[[\"fixture_id\"]].reset_index().merge(match_stats_clean2.groupby([\"away_team_name\"]).count()[[\"fixture_id\"]].reset_index(), left_on=\"home_team_name\", right_on=\"away_team_name\", how=\"outer\")[[\"home_team_name\", \"fixture_id_x\", \"fixture_id_y\"]].sort_values(by=\"fixture_id_x\", ascending = False).reset_index(drop=True).loc[:80,])\n",
    "print(\"Most common scorelines:\\n\", match_stats_clean2.groupby([\"fixture_result_ft\"]).count()[[\"fixture_id\"]].sort_values(by=\"fixture_id\", ascending=False))"
   ]
  },
  {
   "cell_type": "code",
   "execution_count": 60,
   "metadata": {},
   "outputs": [
    {
     "output_type": "execute_result",
     "data": {
      "text/plain": "   fixture_id  country     league_name  league_id league_type  league_season  \\\n0          65  England  Premier League          2      League           2018   \n1          66  England  Premier League          2      League           2018   \n2          67  England  Premier League          2      League           2018   \n3          68  England  Premier League          2      League           2018   \n4          69  England  Premier League          2      League           2018   \n\n  fixture_date       fixture_round  fixture_status  fixture_elapsed  \\\n0   10/08/2018  Regular Season - 1  Match Finished               90   \n1   11/08/2018  Regular Season - 1  Match Finished               90   \n2   11/08/2018  Regular Season - 1  Match Finished               90   \n3   11/08/2018  Regular Season - 1  Match Finished               90   \n4   11/08/2018  Regular Season - 1  Match Finished               90   \n\n                         fixture_venue           fixture_referee  \\\n0             Old Trafford, Manchester   Andre Marriner, England   \n1  St James' Park, Newcastle upon Tyne  Martin Atkinson, England   \n2        Vitality Stadium, Bournemouth     Kevin Friend, England   \n3               Craven Cottage, London        Mike Dean, England   \n4   John Smith's Stadium, Huddersfield   Chris Kavanagh, England   \n\n  fixture_result_ht fixture_result_ft fixture_result_et fixture_result_pen  \\\n0               1-0               2-1               NaN                NaN   \n1               1-2               1-2               NaN                NaN   \n2               1-0               2-0               NaN                NaN   \n3               0-1               0-2               NaN                NaN   \n4               0-2               0-3               NaN                NaN   \n\n      home_team_name  home_team_id  away_team_name  away_team_id  home_goals  \\\n0  Manchester United            33       Leicester            46         2.0   \n1          Newcastle            34       Tottenham            47         1.0   \n2        Bournemouth            35         Cardiff            43         2.0   \n3             Fulham            36  Crystal Palace            52         0.0   \n4       Huddersfield            37         Chelsea            49         0.0   \n\n   away_goals  home_shots_ont  away_shots_ont  home_shots_offt  \\\n0         1.0             6.0             4.0              1.0   \n1         2.0             2.0             5.0              8.0   \n2         0.0             4.0             1.0              6.0   \n3         2.0             6.0            10.0              4.0   \n4         3.0             1.0             4.0              4.0   \n\n   away_shots_offt  home_shots_bl  away_shots_bl  home_shots_tot  \\\n0              3.0            1.0            6.0             8.0   \n1              7.0            5.0            3.0            15.0   \n2              5.0            2.0            4.0            12.0   \n3              0.0            5.0            2.0            15.0   \n4              3.0            1.0            6.0             6.0   \n\n   away_shots_tot  home_shots_inb  away_shots_inb  home_shots_outb  \\\n0            13.0             5.0             5.0              3.0   \n1            15.0             9.0            12.0              6.0   \n2            10.0            10.0             8.0              2.0   \n3            12.0             6.0             8.0              9.0   \n4            13.0             4.0            10.0              2.0   \n\n   away_shots_outb  home_passes_acc  away_passes_acc  home_passes_tot  \\\n0              8.0            399.0            450.0            485.0   \n1              3.0            268.0            467.0            387.0   \n2              2.0            397.0            175.0            502.0   \n3              4.0            591.0            258.0            672.0   \n4              3.0            281.0            582.0            372.0   \n\n   away_passes_tot  home_passes_pct  away_passes_pct  home_possession  \\\n0            543.0             0.82             0.83             0.46   \n1            573.0             0.69             0.82             0.40   \n2            287.0             0.79             0.61             0.62   \n3            347.0             0.88             0.74             0.66   \n4            658.0             0.76             0.88             0.37   \n\n   away_possession  home_corners  away_corners  home_offsides  away_offsides  \\\n0             0.54           2.0           5.0            4.0            2.0   \n1             0.60           3.0           5.0            1.0            0.0   \n2             0.38           7.0           4.0            0.0            2.0   \n3             0.34           5.0           5.0            2.0            3.0   \n4             0.63           2.0           5.0            2.0            1.0   \n\n   home_fouls  away_fouls  home_yc  away_yc  home_rc  away_rc  home_gksaves  \\\n0        11.0         8.0      2.0      1.0      0.0      0.0           3.0   \n1        11.0        12.0      2.0      2.0      0.0      0.0           3.0   \n2        11.0         9.0      1.0      1.0      0.0      0.0           1.0   \n3         9.0        11.0      1.0      2.0      0.0      0.0           8.0   \n4         9.0         8.0      2.0      1.0      0.0      0.0           1.0   \n\n   away_gksaves  \n0           4.0  \n1           1.0  \n2           2.0  \n3           6.0  \n4           1.0  ",
      "text/html": "<div>\n<style scoped>\n    .dataframe tbody tr th:only-of-type {\n        vertical-align: middle;\n    }\n\n    .dataframe tbody tr th {\n        vertical-align: top;\n    }\n\n    .dataframe thead th {\n        text-align: right;\n    }\n</style>\n<table border=\"1\" class=\"dataframe\">\n  <thead>\n    <tr style=\"text-align: right;\">\n      <th></th>\n      <th>fixture_id</th>\n      <th>country</th>\n      <th>league_name</th>\n      <th>league_id</th>\n      <th>league_type</th>\n      <th>league_season</th>\n      <th>fixture_date</th>\n      <th>fixture_round</th>\n      <th>fixture_status</th>\n      <th>fixture_elapsed</th>\n      <th>fixture_venue</th>\n      <th>fixture_referee</th>\n      <th>fixture_result_ht</th>\n      <th>fixture_result_ft</th>\n      <th>fixture_result_et</th>\n      <th>fixture_result_pen</th>\n      <th>home_team_name</th>\n      <th>home_team_id</th>\n      <th>away_team_name</th>\n      <th>away_team_id</th>\n      <th>home_goals</th>\n      <th>away_goals</th>\n      <th>home_shots_ont</th>\n      <th>away_shots_ont</th>\n      <th>home_shots_offt</th>\n      <th>away_shots_offt</th>\n      <th>home_shots_bl</th>\n      <th>away_shots_bl</th>\n      <th>home_shots_tot</th>\n      <th>away_shots_tot</th>\n      <th>home_shots_inb</th>\n      <th>away_shots_inb</th>\n      <th>home_shots_outb</th>\n      <th>away_shots_outb</th>\n      <th>home_passes_acc</th>\n      <th>away_passes_acc</th>\n      <th>home_passes_tot</th>\n      <th>away_passes_tot</th>\n      <th>home_passes_pct</th>\n      <th>away_passes_pct</th>\n      <th>home_possession</th>\n      <th>away_possession</th>\n      <th>home_corners</th>\n      <th>away_corners</th>\n      <th>home_offsides</th>\n      <th>away_offsides</th>\n      <th>home_fouls</th>\n      <th>away_fouls</th>\n      <th>home_yc</th>\n      <th>away_yc</th>\n      <th>home_rc</th>\n      <th>away_rc</th>\n      <th>home_gksaves</th>\n      <th>away_gksaves</th>\n    </tr>\n  </thead>\n  <tbody>\n    <tr>\n      <th>0</th>\n      <td>65</td>\n      <td>England</td>\n      <td>Premier League</td>\n      <td>2</td>\n      <td>League</td>\n      <td>2018</td>\n      <td>10/08/2018</td>\n      <td>Regular Season - 1</td>\n      <td>Match Finished</td>\n      <td>90</td>\n      <td>Old Trafford, Manchester</td>\n      <td>Andre Marriner, England</td>\n      <td>1-0</td>\n      <td>2-1</td>\n      <td>NaN</td>\n      <td>NaN</td>\n      <td>Manchester United</td>\n      <td>33</td>\n      <td>Leicester</td>\n      <td>46</td>\n      <td>2.0</td>\n      <td>1.0</td>\n      <td>6.0</td>\n      <td>4.0</td>\n      <td>1.0</td>\n      <td>3.0</td>\n      <td>1.0</td>\n      <td>6.0</td>\n      <td>8.0</td>\n      <td>13.0</td>\n      <td>5.0</td>\n      <td>5.0</td>\n      <td>3.0</td>\n      <td>8.0</td>\n      <td>399.0</td>\n      <td>450.0</td>\n      <td>485.0</td>\n      <td>543.0</td>\n      <td>0.82</td>\n      <td>0.83</td>\n      <td>0.46</td>\n      <td>0.54</td>\n      <td>2.0</td>\n      <td>5.0</td>\n      <td>4.0</td>\n      <td>2.0</td>\n      <td>11.0</td>\n      <td>8.0</td>\n      <td>2.0</td>\n      <td>1.0</td>\n      <td>0.0</td>\n      <td>0.0</td>\n      <td>3.0</td>\n      <td>4.0</td>\n    </tr>\n    <tr>\n      <th>1</th>\n      <td>66</td>\n      <td>England</td>\n      <td>Premier League</td>\n      <td>2</td>\n      <td>League</td>\n      <td>2018</td>\n      <td>11/08/2018</td>\n      <td>Regular Season - 1</td>\n      <td>Match Finished</td>\n      <td>90</td>\n      <td>St James' Park, Newcastle upon Tyne</td>\n      <td>Martin Atkinson, England</td>\n      <td>1-2</td>\n      <td>1-2</td>\n      <td>NaN</td>\n      <td>NaN</td>\n      <td>Newcastle</td>\n      <td>34</td>\n      <td>Tottenham</td>\n      <td>47</td>\n      <td>1.0</td>\n      <td>2.0</td>\n      <td>2.0</td>\n      <td>5.0</td>\n      <td>8.0</td>\n      <td>7.0</td>\n      <td>5.0</td>\n      <td>3.0</td>\n      <td>15.0</td>\n      <td>15.0</td>\n      <td>9.0</td>\n      <td>12.0</td>\n      <td>6.0</td>\n      <td>3.0</td>\n      <td>268.0</td>\n      <td>467.0</td>\n      <td>387.0</td>\n      <td>573.0</td>\n      <td>0.69</td>\n      <td>0.82</td>\n      <td>0.40</td>\n      <td>0.60</td>\n      <td>3.0</td>\n      <td>5.0</td>\n      <td>1.0</td>\n      <td>0.0</td>\n      <td>11.0</td>\n      <td>12.0</td>\n      <td>2.0</td>\n      <td>2.0</td>\n      <td>0.0</td>\n      <td>0.0</td>\n      <td>3.0</td>\n      <td>1.0</td>\n    </tr>\n    <tr>\n      <th>2</th>\n      <td>67</td>\n      <td>England</td>\n      <td>Premier League</td>\n      <td>2</td>\n      <td>League</td>\n      <td>2018</td>\n      <td>11/08/2018</td>\n      <td>Regular Season - 1</td>\n      <td>Match Finished</td>\n      <td>90</td>\n      <td>Vitality Stadium, Bournemouth</td>\n      <td>Kevin Friend, England</td>\n      <td>1-0</td>\n      <td>2-0</td>\n      <td>NaN</td>\n      <td>NaN</td>\n      <td>Bournemouth</td>\n      <td>35</td>\n      <td>Cardiff</td>\n      <td>43</td>\n      <td>2.0</td>\n      <td>0.0</td>\n      <td>4.0</td>\n      <td>1.0</td>\n      <td>6.0</td>\n      <td>5.0</td>\n      <td>2.0</td>\n      <td>4.0</td>\n      <td>12.0</td>\n      <td>10.0</td>\n      <td>10.0</td>\n      <td>8.0</td>\n      <td>2.0</td>\n      <td>2.0</td>\n      <td>397.0</td>\n      <td>175.0</td>\n      <td>502.0</td>\n      <td>287.0</td>\n      <td>0.79</td>\n      <td>0.61</td>\n      <td>0.62</td>\n      <td>0.38</td>\n      <td>7.0</td>\n      <td>4.0</td>\n      <td>0.0</td>\n      <td>2.0</td>\n      <td>11.0</td>\n      <td>9.0</td>\n      <td>1.0</td>\n      <td>1.0</td>\n      <td>0.0</td>\n      <td>0.0</td>\n      <td>1.0</td>\n      <td>2.0</td>\n    </tr>\n    <tr>\n      <th>3</th>\n      <td>68</td>\n      <td>England</td>\n      <td>Premier League</td>\n      <td>2</td>\n      <td>League</td>\n      <td>2018</td>\n      <td>11/08/2018</td>\n      <td>Regular Season - 1</td>\n      <td>Match Finished</td>\n      <td>90</td>\n      <td>Craven Cottage, London</td>\n      <td>Mike Dean, England</td>\n      <td>0-1</td>\n      <td>0-2</td>\n      <td>NaN</td>\n      <td>NaN</td>\n      <td>Fulham</td>\n      <td>36</td>\n      <td>Crystal Palace</td>\n      <td>52</td>\n      <td>0.0</td>\n      <td>2.0</td>\n      <td>6.0</td>\n      <td>10.0</td>\n      <td>4.0</td>\n      <td>0.0</td>\n      <td>5.0</td>\n      <td>2.0</td>\n      <td>15.0</td>\n      <td>12.0</td>\n      <td>6.0</td>\n      <td>8.0</td>\n      <td>9.0</td>\n      <td>4.0</td>\n      <td>591.0</td>\n      <td>258.0</td>\n      <td>672.0</td>\n      <td>347.0</td>\n      <td>0.88</td>\n      <td>0.74</td>\n      <td>0.66</td>\n      <td>0.34</td>\n      <td>5.0</td>\n      <td>5.0</td>\n      <td>2.0</td>\n      <td>3.0</td>\n      <td>9.0</td>\n      <td>11.0</td>\n      <td>1.0</td>\n      <td>2.0</td>\n      <td>0.0</td>\n      <td>0.0</td>\n      <td>8.0</td>\n      <td>6.0</td>\n    </tr>\n    <tr>\n      <th>4</th>\n      <td>69</td>\n      <td>England</td>\n      <td>Premier League</td>\n      <td>2</td>\n      <td>League</td>\n      <td>2018</td>\n      <td>11/08/2018</td>\n      <td>Regular Season - 1</td>\n      <td>Match Finished</td>\n      <td>90</td>\n      <td>John Smith's Stadium, Huddersfield</td>\n      <td>Chris Kavanagh, England</td>\n      <td>0-2</td>\n      <td>0-3</td>\n      <td>NaN</td>\n      <td>NaN</td>\n      <td>Huddersfield</td>\n      <td>37</td>\n      <td>Chelsea</td>\n      <td>49</td>\n      <td>0.0</td>\n      <td>3.0</td>\n      <td>1.0</td>\n      <td>4.0</td>\n      <td>4.0</td>\n      <td>3.0</td>\n      <td>1.0</td>\n      <td>6.0</td>\n      <td>6.0</td>\n      <td>13.0</td>\n      <td>4.0</td>\n      <td>10.0</td>\n      <td>2.0</td>\n      <td>3.0</td>\n      <td>281.0</td>\n      <td>582.0</td>\n      <td>372.0</td>\n      <td>658.0</td>\n      <td>0.76</td>\n      <td>0.88</td>\n      <td>0.37</td>\n      <td>0.63</td>\n      <td>2.0</td>\n      <td>5.0</td>\n      <td>2.0</td>\n      <td>1.0</td>\n      <td>9.0</td>\n      <td>8.0</td>\n      <td>2.0</td>\n      <td>1.0</td>\n      <td>0.0</td>\n      <td>0.0</td>\n      <td>1.0</td>\n      <td>1.0</td>\n    </tr>\n  </tbody>\n</table>\n</div>"
     },
     "metadata": {},
     "execution_count": 60
    }
   ],
   "source": [
    "match_stats_clean.head()"
   ]
  },
  {
   "cell_type": "code",
   "execution_count": 50,
   "metadata": {},
   "outputs": [],
   "source": [
    "# # key_team_ids = u.get_ids_of_key_teams()\n",
    "# [x for x in match_stats_raw[(match_stats_raw.league_type==\"Cup\") & (match_stats_raw.country!=\"World\") & (match_stats_raw.fixture_round == \"32nd Finals\")].home_team_id.unique() if str(x) in key_team_ids]\n",
    "# all_teams = pd.read_csv(\"../data/csv_of_json_data/all_teams.csv\")\n",
    "# all_teams[all_teams.team_id == 80]"
   ]
  }
 ],
 "metadata": {
  "kernelspec": {
   "display_name": ".venv_stat_proj",
   "language": "python",
   "name": ".venv_stat_proj"
  },
  "language_info": {
   "codemirror_mode": {
    "name": "ipython",
    "version": 3
   },
   "file_extension": ".py",
   "mimetype": "text/x-python",
   "name": "python",
   "nbconvert_exporter": "python",
   "pygments_lexer": "ipython3",
   "version": "3.7.3-final"
  }
 },
 "nbformat": 4,
 "nbformat_minor": 2
}