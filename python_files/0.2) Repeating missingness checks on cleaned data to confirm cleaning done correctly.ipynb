{
 "cells": [
  {
   "cell_type": "code",
   "execution_count": 1,
   "metadata": {},
   "outputs": [],
   "source": [
    "import os\n",
    "\n",
    "import pandas as pd\n",
    "pd.set_option('display.max_columns', 60)\n",
    "pd.set_option('display.max_rows', 300)\n",
    "\n",
    "import etl\n",
    "import utils as u\n",
    "data_cfg = u.get_config('data')\n",
    "cfg = u.get_config()"
   ]
  },
  {
   "cell_type": "markdown",
   "metadata": {},
   "source": [
    "---"
   ]
  },
  {
   "cell_type": "markdown",
   "metadata": {},
   "source": [
    "#### Reading in data"
   ]
  },
  {
   "cell_type": "code",
   "execution_count": 2,
   "metadata": {},
   "outputs": [
    {
     "name": "stderr",
     "output_type": "stream",
     "text": [
      "/Library/Frameworks/Python.framework/Versions/3.7/lib/python3.7/site-packages/IPython/core/interactiveshell.py:3049: DtypeWarning: Columns (14,15,29) have mixed types.Specify dtype option on import or set low_memory=False.\n",
      "  interactivity=interactivity, compiler=compiler, result=result)\n"
     ]
    }
   ],
   "source": [
    "match_events_clean = pd.read_csv(\"data/csv_of_json_data/match_events_clean.csv\")\n",
    "match_stats_clean = pd.read_csv(\"data/csv_of_json_data/match_stats_clean.csv\")\n",
    "match_events_count_clean = pd.read_csv(\"data/csv_of_json_data/match_events_count_clean.csv\")"
   ]
  },
  {
   "cell_type": "markdown",
   "metadata": {},
   "source": [
    "## Checks to perform:\n",
    "    - Check match_stats data matches match_events data\n",
    "    - That the columns have the right relationships with each other:\n",
    "        - Total shots = Sum(shots_ont + shots_offt + shots_bl)\n",
    "        - Total shots = Sum(shots_inb + shots_outb)\n",
    "        - Passes_pct = passes_act/passes_tot\n",
    "        - Sum(Home_possession + away_possession) = 1"
   ]
  },
  {
   "cell_type": "markdown",
   "metadata": {},
   "source": [
    "---"
   ]
  },
  {
   "cell_type": "markdown",
   "metadata": {},
   "source": [
    "## 1) Check match_stats data matches match_events data"
   ]
  },
  {
   "cell_type": "markdown",
   "metadata": {},
   "source": [
    "### 1.1) Goals"
   ]
  },
  {
   "cell_type": "code",
   "execution_count": 3,
   "metadata": {},
   "outputs": [
    {
     "data": {
      "text/html": [
       "<div>\n",
       "<style scoped>\n",
       "    .dataframe tbody tr th:only-of-type {\n",
       "        vertical-align: middle;\n",
       "    }\n",
       "\n",
       "    .dataframe tbody tr th {\n",
       "        vertical-align: top;\n",
       "    }\n",
       "\n",
       "    .dataframe thead th {\n",
       "        text-align: right;\n",
       "    }\n",
       "</style>\n",
       "<table border=\"1\" class=\"dataframe\">\n",
       "  <thead>\n",
       "    <tr style=\"text-align: right;\">\n",
       "      <th></th>\n",
       "      <th>fixture_id</th>\n",
       "      <th>home_goals</th>\n",
       "      <th>away_goals</th>\n",
       "      <th>home_normal_goal</th>\n",
       "      <th>home_penalty</th>\n",
       "      <th>home_own_goal</th>\n",
       "      <th>home_missed_penalty</th>\n",
       "      <th>away_normal_goal</th>\n",
       "      <th>away_penalty</th>\n",
       "      <th>away_own_goal</th>\n",
       "      <th>away_missed_penalty</th>\n",
       "    </tr>\n",
       "  </thead>\n",
       "  <tbody>\n",
       "  </tbody>\n",
       "</table>\n",
       "</div>"
      ],
      "text/plain": [
       "Empty DataFrame\n",
       "Columns: [fixture_id, home_goals, away_goals, home_normal_goal, home_penalty, home_own_goal, home_missed_penalty, away_normal_goal, away_penalty, away_own_goal, away_missed_penalty]\n",
       "Index: []"
      ]
     },
     "execution_count": 3,
     "metadata": {},
     "output_type": "execute_result"
    }
   ],
   "source": [
    "checks = match_stats_clean[['fixture_id', 'home_goals', 'away_goals']].copy()\n",
    "count_checks = match_events_count_clean[[\n",
    "    'fixture_id',\n",
    "    'home_normal_goal', 'home_penalty', 'home_own_goal', 'home_missed_penalty',\n",
    "    'away_normal_goal', 'away_penalty', 'away_own_goal', 'away_missed_penalty']].copy()\n",
    "\n",
    "checks = checks.merge(count_checks, on='fixture_id', how='inner')\n",
    "\n",
    "ids_goals_dont_add = list(set(\n",
    "    list(checks[checks['home_goals'] != (\n",
    "        checks['home_normal_goal'] + checks['home_own_goal'] + checks['home_penalty']\n",
    ")].fixture_id.unique()) +\n",
    "    list(checks[checks['away_goals'] != (\n",
    "        checks['away_normal_goal'] + checks['away_own_goal'] + checks['away_penalty']\n",
    ")].fixture_id.unique())))\n",
    "\n",
    "checks[checks.fixture_id.isin(ids_goals_dont_add)]"
   ]
  },
  {
   "cell_type": "markdown",
   "metadata": {},
   "source": [
    "### 1.2) Cards"
   ]
  },
  {
   "cell_type": "code",
   "execution_count": 4,
   "metadata": {},
   "outputs": [
    {
     "data": {
      "text/plain": [
       "'Home YC'"
      ]
     },
     "metadata": {},
     "output_type": "display_data"
    },
    {
     "data": {
      "text/html": [
       "<div>\n",
       "<style scoped>\n",
       "    .dataframe tbody tr th:only-of-type {\n",
       "        vertical-align: middle;\n",
       "    }\n",
       "\n",
       "    .dataframe tbody tr th {\n",
       "        vertical-align: top;\n",
       "    }\n",
       "\n",
       "    .dataframe thead th {\n",
       "        text-align: right;\n",
       "    }\n",
       "</style>\n",
       "<table border=\"1\" class=\"dataframe\">\n",
       "  <thead>\n",
       "    <tr style=\"text-align: right;\">\n",
       "      <th></th>\n",
       "      <th>fixture_id</th>\n",
       "      <th>home_yc</th>\n",
       "      <th>away_yc</th>\n",
       "      <th>home_rc</th>\n",
       "      <th>away_rc</th>\n",
       "      <th>home_red_card</th>\n",
       "      <th>away_red_card</th>\n",
       "      <th>home_yellow_card</th>\n",
       "      <th>away_yellow_card</th>\n",
       "    </tr>\n",
       "  </thead>\n",
       "  <tbody>\n",
       "  </tbody>\n",
       "</table>\n",
       "</div>"
      ],
      "text/plain": [
       "Empty DataFrame\n",
       "Columns: [fixture_id, home_yc, away_yc, home_rc, away_rc, home_red_card, away_red_card, home_yellow_card, away_yellow_card]\n",
       "Index: []"
      ]
     },
     "metadata": {},
     "output_type": "display_data"
    },
    {
     "data": {
      "text/plain": [
       "'Home RC'"
      ]
     },
     "metadata": {},
     "output_type": "display_data"
    },
    {
     "data": {
      "text/html": [
       "<div>\n",
       "<style scoped>\n",
       "    .dataframe tbody tr th:only-of-type {\n",
       "        vertical-align: middle;\n",
       "    }\n",
       "\n",
       "    .dataframe tbody tr th {\n",
       "        vertical-align: top;\n",
       "    }\n",
       "\n",
       "    .dataframe thead th {\n",
       "        text-align: right;\n",
       "    }\n",
       "</style>\n",
       "<table border=\"1\" class=\"dataframe\">\n",
       "  <thead>\n",
       "    <tr style=\"text-align: right;\">\n",
       "      <th></th>\n",
       "      <th>fixture_id</th>\n",
       "      <th>home_yc</th>\n",
       "      <th>away_yc</th>\n",
       "      <th>home_rc</th>\n",
       "      <th>away_rc</th>\n",
       "      <th>home_red_card</th>\n",
       "      <th>away_red_card</th>\n",
       "      <th>home_yellow_card</th>\n",
       "      <th>away_yellow_card</th>\n",
       "    </tr>\n",
       "  </thead>\n",
       "  <tbody>\n",
       "  </tbody>\n",
       "</table>\n",
       "</div>"
      ],
      "text/plain": [
       "Empty DataFrame\n",
       "Columns: [fixture_id, home_yc, away_yc, home_rc, away_rc, home_red_card, away_red_card, home_yellow_card, away_yellow_card]\n",
       "Index: []"
      ]
     },
     "metadata": {},
     "output_type": "display_data"
    },
    {
     "data": {
      "text/plain": [
       "'Away YC'"
      ]
     },
     "metadata": {},
     "output_type": "display_data"
    },
    {
     "data": {
      "text/html": [
       "<div>\n",
       "<style scoped>\n",
       "    .dataframe tbody tr th:only-of-type {\n",
       "        vertical-align: middle;\n",
       "    }\n",
       "\n",
       "    .dataframe tbody tr th {\n",
       "        vertical-align: top;\n",
       "    }\n",
       "\n",
       "    .dataframe thead th {\n",
       "        text-align: right;\n",
       "    }\n",
       "</style>\n",
       "<table border=\"1\" class=\"dataframe\">\n",
       "  <thead>\n",
       "    <tr style=\"text-align: right;\">\n",
       "      <th></th>\n",
       "      <th>fixture_id</th>\n",
       "      <th>home_yc</th>\n",
       "      <th>away_yc</th>\n",
       "      <th>home_rc</th>\n",
       "      <th>away_rc</th>\n",
       "      <th>home_red_card</th>\n",
       "      <th>away_red_card</th>\n",
       "      <th>home_yellow_card</th>\n",
       "      <th>away_yellow_card</th>\n",
       "    </tr>\n",
       "  </thead>\n",
       "  <tbody>\n",
       "  </tbody>\n",
       "</table>\n",
       "</div>"
      ],
      "text/plain": [
       "Empty DataFrame\n",
       "Columns: [fixture_id, home_yc, away_yc, home_rc, away_rc, home_red_card, away_red_card, home_yellow_card, away_yellow_card]\n",
       "Index: []"
      ]
     },
     "metadata": {},
     "output_type": "display_data"
    },
    {
     "data": {
      "text/plain": [
       "'Away RC'"
      ]
     },
     "metadata": {},
     "output_type": "display_data"
    },
    {
     "data": {
      "text/html": [
       "<div>\n",
       "<style scoped>\n",
       "    .dataframe tbody tr th:only-of-type {\n",
       "        vertical-align: middle;\n",
       "    }\n",
       "\n",
       "    .dataframe tbody tr th {\n",
       "        vertical-align: top;\n",
       "    }\n",
       "\n",
       "    .dataframe thead th {\n",
       "        text-align: right;\n",
       "    }\n",
       "</style>\n",
       "<table border=\"1\" class=\"dataframe\">\n",
       "  <thead>\n",
       "    <tr style=\"text-align: right;\">\n",
       "      <th></th>\n",
       "      <th>fixture_id</th>\n",
       "      <th>home_yc</th>\n",
       "      <th>away_yc</th>\n",
       "      <th>home_rc</th>\n",
       "      <th>away_rc</th>\n",
       "      <th>home_red_card</th>\n",
       "      <th>away_red_card</th>\n",
       "      <th>home_yellow_card</th>\n",
       "      <th>away_yellow_card</th>\n",
       "    </tr>\n",
       "  </thead>\n",
       "  <tbody>\n",
       "  </tbody>\n",
       "</table>\n",
       "</div>"
      ],
      "text/plain": [
       "Empty DataFrame\n",
       "Columns: [fixture_id, home_yc, away_yc, home_rc, away_rc, home_red_card, away_red_card, home_yellow_card, away_yellow_card]\n",
       "Index: []"
      ]
     },
     "metadata": {},
     "output_type": "display_data"
    }
   ],
   "source": [
    "match_stats_csv_cards = match_stats_clean[['fixture_id','home_yc', 'away_yc', 'home_rc', 'away_rc']].copy()\n",
    "\n",
    "match_events_count_csv_cards = match_events_count_clean[[\n",
    "    'fixture_id', 'home_red_card', 'away_red_card', 'home_yellow_card', 'away_yellow_card']]\n",
    "cards_csv = match_stats_csv_cards.merge(match_events_count_csv_cards, on='fixture_id', how='left')\n",
    "\n",
    "yc_csv_clean = cards_csv[~cards_csv.home_yc.isnull()]\n",
    "home_yc_wrong = yc_csv_clean[(yc_csv_clean['home_yc'] != yc_csv_clean['home_yellow_card'])]\n",
    "away_yc_wrong = yc_csv_clean[(yc_csv_clean['away_yc'] != yc_csv_clean['away_yellow_card'])]\n",
    "\n",
    "home_rc_csv_clean = cards_csv[~cards_csv.home_rc.isnull()]\n",
    "home_rc_wrong = home_rc_csv_clean[\n",
    "    (home_rc_csv_clean['home_rc'] != home_rc_csv_clean['home_red_card'])]\n",
    "\n",
    "away_rc_csv_clean = cards_csv[~cards_csv.away_rc.isnull()]\n",
    "away_rc_wrong = away_rc_csv_clean[\n",
    "    (away_rc_csv_clean['away_rc'] != away_rc_csv_clean['away_red_card'])]\n",
    "\n",
    "ids_cards_wrong_in_events = list(set(list(home_rc_wrong.fixture_id.unique()) +\n",
    "                                     list(away_rc_wrong.fixture_id.unique()) +\n",
    "                                     list(home_yc_wrong.fixture_id.unique()) +\n",
    "                                     list(away_yc_wrong.fixture_id.unique())))\n",
    "\n",
    "display(\"Home YC\", home_yc_wrong)\n",
    "display(\"Home RC\", home_rc_wrong)\n",
    "display(\"Away YC\", away_yc_wrong)\n",
    "display(\"Away RC\", away_rc_wrong)"
   ]
  },
  {
   "cell_type": "markdown",
   "metadata": {},
   "source": [
    "#### 1.3) Double checking events has no negative values in time elapsed"
   ]
  },
  {
   "cell_type": "code",
   "execution_count": 5,
   "metadata": {},
   "outputs": [
    {
     "data": {
      "text/html": [
       "<div>\n",
       "<style scoped>\n",
       "    .dataframe tbody tr th:only-of-type {\n",
       "        vertical-align: middle;\n",
       "    }\n",
       "\n",
       "    .dataframe tbody tr th {\n",
       "        vertical-align: top;\n",
       "    }\n",
       "\n",
       "    .dataframe thead th {\n",
       "        text-align: right;\n",
       "    }\n",
       "</style>\n",
       "<table border=\"1\" class=\"dataframe\">\n",
       "  <thead>\n",
       "    <tr style=\"text-align: right;\">\n",
       "      <th></th>\n",
       "      <th>fixture_id</th>\n",
       "      <th>country</th>\n",
       "      <th>league_name</th>\n",
       "      <th>league_id</th>\n",
       "      <th>league_type</th>\n",
       "      <th>league_season</th>\n",
       "      <th>fixture_date</th>\n",
       "      <th>fixture_round</th>\n",
       "      <th>fixture_status</th>\n",
       "      <th>fixture_elapsed</th>\n",
       "      <th>fixture_venue</th>\n",
       "      <th>fixture_referee</th>\n",
       "      <th>fixture_result_ht</th>\n",
       "      <th>fixture_result_ft</th>\n",
       "      <th>fixture_result_et</th>\n",
       "      <th>fixture_result_pen</th>\n",
       "      <th>home_team_name</th>\n",
       "      <th>home_team_id</th>\n",
       "      <th>away_team_name</th>\n",
       "      <th>away_team_id</th>\n",
       "      <th>home_goals</th>\n",
       "      <th>away_goals</th>\n",
       "      <th>event_team_id</th>\n",
       "      <th>event_team_name</th>\n",
       "      <th>event_player_name</th>\n",
       "      <th>event_time_elapsed</th>\n",
       "      <th>event_time_elapsed_plus</th>\n",
       "      <th>event_type</th>\n",
       "      <th>event_detail</th>\n",
       "      <th>event_comments</th>\n",
       "    </tr>\n",
       "  </thead>\n",
       "  <tbody>\n",
       "  </tbody>\n",
       "</table>\n",
       "</div>"
      ],
      "text/plain": [
       "Empty DataFrame\n",
       "Columns: [fixture_id, country, league_name, league_id, league_type, league_season, fixture_date, fixture_round, fixture_status, fixture_elapsed, fixture_venue, fixture_referee, fixture_result_ht, fixture_result_ft, fixture_result_et, fixture_result_pen, home_team_name, home_team_id, away_team_name, away_team_id, home_goals, away_goals, event_team_id, event_team_name, event_player_name, event_time_elapsed, event_time_elapsed_plus, event_type, event_detail, event_comments]\n",
       "Index: []"
      ]
     },
     "execution_count": 5,
     "metadata": {},
     "output_type": "execute_result"
    }
   ],
   "source": [
    "match_events_clean[match_events_clean.event_time_elapsed<=0]"
   ]
  },
  {
   "cell_type": "markdown",
   "metadata": {},
   "source": [
    "## 2) Check match_stats column relationships are valid"
   ]
  },
  {
   "cell_type": "markdown",
   "metadata": {},
   "source": [
    "### 2.1) Total shots = Sum(shots_ont + shots_offt + shots_bl)"
   ]
  },
  {
   "cell_type": "code",
   "execution_count": 6,
   "metadata": {},
   "outputs": [
    {
     "data": {
      "text/html": [
       "<div>\n",
       "<style scoped>\n",
       "    .dataframe tbody tr th:only-of-type {\n",
       "        vertical-align: middle;\n",
       "    }\n",
       "\n",
       "    .dataframe tbody tr th {\n",
       "        vertical-align: top;\n",
       "    }\n",
       "\n",
       "    .dataframe thead th {\n",
       "        text-align: right;\n",
       "    }\n",
       "</style>\n",
       "<table border=\"1\" class=\"dataframe\">\n",
       "  <thead>\n",
       "    <tr style=\"text-align: right;\">\n",
       "      <th></th>\n",
       "      <th>fixture_id</th>\n",
       "      <th>country</th>\n",
       "      <th>league_name</th>\n",
       "      <th>league_id</th>\n",
       "      <th>league_type</th>\n",
       "      <th>league_season</th>\n",
       "      <th>fixture_date</th>\n",
       "      <th>fixture_round</th>\n",
       "      <th>fixture_status</th>\n",
       "      <th>fixture_elapsed</th>\n",
       "      <th>fixture_venue</th>\n",
       "      <th>fixture_referee</th>\n",
       "      <th>fixture_result_ht</th>\n",
       "      <th>fixture_result_ft</th>\n",
       "      <th>fixture_result_et</th>\n",
       "      <th>fixture_result_pen</th>\n",
       "      <th>home_team_name</th>\n",
       "      <th>home_team_id</th>\n",
       "      <th>away_team_name</th>\n",
       "      <th>away_team_id</th>\n",
       "      <th>home_goals</th>\n",
       "      <th>away_goals</th>\n",
       "      <th>home_shots_ont</th>\n",
       "      <th>away_shots_ont</th>\n",
       "      <th>home_shots_offt</th>\n",
       "      <th>away_shots_offt</th>\n",
       "      <th>home_shots_tot</th>\n",
       "      <th>away_shots_tot</th>\n",
       "      <th>home_shots_inb</th>\n",
       "      <th>away_shots_inb</th>\n",
       "      <th>home_shots_outb</th>\n",
       "      <th>away_shots_outb</th>\n",
       "      <th>home_passes_acc</th>\n",
       "      <th>away_passes_acc</th>\n",
       "      <th>home_passes_tot</th>\n",
       "      <th>away_passes_tot</th>\n",
       "      <th>home_passes_pct</th>\n",
       "      <th>away_passes_pct</th>\n",
       "      <th>home_possession</th>\n",
       "      <th>away_possession</th>\n",
       "      <th>home_corners</th>\n",
       "      <th>away_corners</th>\n",
       "      <th>home_offsides</th>\n",
       "      <th>away_offsides</th>\n",
       "      <th>home_fouls</th>\n",
       "      <th>away_fouls</th>\n",
       "      <th>home_yc</th>\n",
       "      <th>away_yc</th>\n",
       "      <th>home_rc</th>\n",
       "      <th>away_rc</th>\n",
       "      <th>home_gksaves</th>\n",
       "      <th>away_gksaves</th>\n",
       "      <th>home_shots_bl</th>\n",
       "      <th>away_shots_bl</th>\n",
       "    </tr>\n",
       "  </thead>\n",
       "  <tbody>\n",
       "  </tbody>\n",
       "</table>\n",
       "</div>"
      ],
      "text/plain": [
       "Empty DataFrame\n",
       "Columns: [fixture_id, country, league_name, league_id, league_type, league_season, fixture_date, fixture_round, fixture_status, fixture_elapsed, fixture_venue, fixture_referee, fixture_result_ht, fixture_result_ft, fixture_result_et, fixture_result_pen, home_team_name, home_team_id, away_team_name, away_team_id, home_goals, away_goals, home_shots_ont, away_shots_ont, home_shots_offt, away_shots_offt, home_shots_tot, away_shots_tot, home_shots_inb, away_shots_inb, home_shots_outb, away_shots_outb, home_passes_acc, away_passes_acc, home_passes_tot, away_passes_tot, home_passes_pct, away_passes_pct, home_possession, away_possession, home_corners, away_corners, home_offsides, away_offsides, home_fouls, away_fouls, home_yc, away_yc, home_rc, away_rc, home_gksaves, away_gksaves, home_shots_bl, away_shots_bl]\n",
       "Index: []"
      ]
     },
     "metadata": {},
     "output_type": "display_data"
    },
    {
     "data": {
      "text/html": [
       "<div>\n",
       "<style scoped>\n",
       "    .dataframe tbody tr th:only-of-type {\n",
       "        vertical-align: middle;\n",
       "    }\n",
       "\n",
       "    .dataframe tbody tr th {\n",
       "        vertical-align: top;\n",
       "    }\n",
       "\n",
       "    .dataframe thead th {\n",
       "        text-align: right;\n",
       "    }\n",
       "</style>\n",
       "<table border=\"1\" class=\"dataframe\">\n",
       "  <thead>\n",
       "    <tr style=\"text-align: right;\">\n",
       "      <th></th>\n",
       "      <th>fixture_id</th>\n",
       "      <th>country</th>\n",
       "      <th>league_name</th>\n",
       "      <th>league_id</th>\n",
       "      <th>league_type</th>\n",
       "      <th>league_season</th>\n",
       "      <th>fixture_date</th>\n",
       "      <th>fixture_round</th>\n",
       "      <th>fixture_status</th>\n",
       "      <th>fixture_elapsed</th>\n",
       "      <th>fixture_venue</th>\n",
       "      <th>fixture_referee</th>\n",
       "      <th>fixture_result_ht</th>\n",
       "      <th>fixture_result_ft</th>\n",
       "      <th>fixture_result_et</th>\n",
       "      <th>fixture_result_pen</th>\n",
       "      <th>home_team_name</th>\n",
       "      <th>home_team_id</th>\n",
       "      <th>away_team_name</th>\n",
       "      <th>away_team_id</th>\n",
       "      <th>home_goals</th>\n",
       "      <th>away_goals</th>\n",
       "      <th>home_shots_ont</th>\n",
       "      <th>away_shots_ont</th>\n",
       "      <th>home_shots_offt</th>\n",
       "      <th>away_shots_offt</th>\n",
       "      <th>home_shots_tot</th>\n",
       "      <th>away_shots_tot</th>\n",
       "      <th>home_shots_inb</th>\n",
       "      <th>away_shots_inb</th>\n",
       "      <th>home_shots_outb</th>\n",
       "      <th>away_shots_outb</th>\n",
       "      <th>home_passes_acc</th>\n",
       "      <th>away_passes_acc</th>\n",
       "      <th>home_passes_tot</th>\n",
       "      <th>away_passes_tot</th>\n",
       "      <th>home_passes_pct</th>\n",
       "      <th>away_passes_pct</th>\n",
       "      <th>home_possession</th>\n",
       "      <th>away_possession</th>\n",
       "      <th>home_corners</th>\n",
       "      <th>away_corners</th>\n",
       "      <th>home_offsides</th>\n",
       "      <th>away_offsides</th>\n",
       "      <th>home_fouls</th>\n",
       "      <th>away_fouls</th>\n",
       "      <th>home_yc</th>\n",
       "      <th>away_yc</th>\n",
       "      <th>home_rc</th>\n",
       "      <th>away_rc</th>\n",
       "      <th>home_gksaves</th>\n",
       "      <th>away_gksaves</th>\n",
       "      <th>home_shots_bl</th>\n",
       "      <th>away_shots_bl</th>\n",
       "    </tr>\n",
       "  </thead>\n",
       "  <tbody>\n",
       "  </tbody>\n",
       "</table>\n",
       "</div>"
      ],
      "text/plain": [
       "Empty DataFrame\n",
       "Columns: [fixture_id, country, league_name, league_id, league_type, league_season, fixture_date, fixture_round, fixture_status, fixture_elapsed, fixture_venue, fixture_referee, fixture_result_ht, fixture_result_ft, fixture_result_et, fixture_result_pen, home_team_name, home_team_id, away_team_name, away_team_id, home_goals, away_goals, home_shots_ont, away_shots_ont, home_shots_offt, away_shots_offt, home_shots_tot, away_shots_tot, home_shots_inb, away_shots_inb, home_shots_outb, away_shots_outb, home_passes_acc, away_passes_acc, home_passes_tot, away_passes_tot, home_passes_pct, away_passes_pct, home_possession, away_possession, home_corners, away_corners, home_offsides, away_offsides, home_fouls, away_fouls, home_yc, away_yc, home_rc, away_rc, home_gksaves, away_gksaves, home_shots_bl, away_shots_bl]\n",
       "Index: []"
      ]
     },
     "metadata": {},
     "output_type": "display_data"
    }
   ],
   "source": [
    "for ha in ['home', 'away']:\n",
    "    display(match_stats_clean[\n",
    "    (match_stats_clean[f\"{ha}_shots_ont\"] + match_stats_clean[f\"{ha}_shots_offt\"] +\n",
    "     match_stats_clean[f\"{ha}_shots_bl\"]) != match_stats_clean[f\"{ha}_shots_tot\"]])"
   ]
  },
  {
   "cell_type": "markdown",
   "metadata": {},
   "source": [
    "### 2.2) Total shots = Sum(shots_inb + shots_outb)"
   ]
  },
  {
   "cell_type": "code",
   "execution_count": 7,
   "metadata": {},
   "outputs": [
    {
     "data": {
      "text/html": [
       "<div>\n",
       "<style scoped>\n",
       "    .dataframe tbody tr th:only-of-type {\n",
       "        vertical-align: middle;\n",
       "    }\n",
       "\n",
       "    .dataframe tbody tr th {\n",
       "        vertical-align: top;\n",
       "    }\n",
       "\n",
       "    .dataframe thead th {\n",
       "        text-align: right;\n",
       "    }\n",
       "</style>\n",
       "<table border=\"1\" class=\"dataframe\">\n",
       "  <thead>\n",
       "    <tr style=\"text-align: right;\">\n",
       "      <th></th>\n",
       "      <th>fixture_id</th>\n",
       "      <th>country</th>\n",
       "      <th>league_name</th>\n",
       "      <th>league_id</th>\n",
       "      <th>league_type</th>\n",
       "      <th>league_season</th>\n",
       "      <th>fixture_date</th>\n",
       "      <th>fixture_round</th>\n",
       "      <th>fixture_status</th>\n",
       "      <th>fixture_elapsed</th>\n",
       "      <th>fixture_venue</th>\n",
       "      <th>fixture_referee</th>\n",
       "      <th>fixture_result_ht</th>\n",
       "      <th>fixture_result_ft</th>\n",
       "      <th>fixture_result_et</th>\n",
       "      <th>fixture_result_pen</th>\n",
       "      <th>home_team_name</th>\n",
       "      <th>home_team_id</th>\n",
       "      <th>away_team_name</th>\n",
       "      <th>away_team_id</th>\n",
       "      <th>home_goals</th>\n",
       "      <th>away_goals</th>\n",
       "      <th>home_shots_ont</th>\n",
       "      <th>away_shots_ont</th>\n",
       "      <th>home_shots_offt</th>\n",
       "      <th>away_shots_offt</th>\n",
       "      <th>home_shots_tot</th>\n",
       "      <th>away_shots_tot</th>\n",
       "      <th>home_shots_inb</th>\n",
       "      <th>away_shots_inb</th>\n",
       "      <th>home_shots_outb</th>\n",
       "      <th>away_shots_outb</th>\n",
       "      <th>home_passes_acc</th>\n",
       "      <th>away_passes_acc</th>\n",
       "      <th>home_passes_tot</th>\n",
       "      <th>away_passes_tot</th>\n",
       "      <th>home_passes_pct</th>\n",
       "      <th>away_passes_pct</th>\n",
       "      <th>home_possession</th>\n",
       "      <th>away_possession</th>\n",
       "      <th>home_corners</th>\n",
       "      <th>away_corners</th>\n",
       "      <th>home_offsides</th>\n",
       "      <th>away_offsides</th>\n",
       "      <th>home_fouls</th>\n",
       "      <th>away_fouls</th>\n",
       "      <th>home_yc</th>\n",
       "      <th>away_yc</th>\n",
       "      <th>home_rc</th>\n",
       "      <th>away_rc</th>\n",
       "      <th>home_gksaves</th>\n",
       "      <th>away_gksaves</th>\n",
       "      <th>home_shots_bl</th>\n",
       "      <th>away_shots_bl</th>\n",
       "    </tr>\n",
       "  </thead>\n",
       "  <tbody>\n",
       "  </tbody>\n",
       "</table>\n",
       "</div>"
      ],
      "text/plain": [
       "Empty DataFrame\n",
       "Columns: [fixture_id, country, league_name, league_id, league_type, league_season, fixture_date, fixture_round, fixture_status, fixture_elapsed, fixture_venue, fixture_referee, fixture_result_ht, fixture_result_ft, fixture_result_et, fixture_result_pen, home_team_name, home_team_id, away_team_name, away_team_id, home_goals, away_goals, home_shots_ont, away_shots_ont, home_shots_offt, away_shots_offt, home_shots_tot, away_shots_tot, home_shots_inb, away_shots_inb, home_shots_outb, away_shots_outb, home_passes_acc, away_passes_acc, home_passes_tot, away_passes_tot, home_passes_pct, away_passes_pct, home_possession, away_possession, home_corners, away_corners, home_offsides, away_offsides, home_fouls, away_fouls, home_yc, away_yc, home_rc, away_rc, home_gksaves, away_gksaves, home_shots_bl, away_shots_bl]\n",
       "Index: []"
      ]
     },
     "metadata": {},
     "output_type": "display_data"
    },
    {
     "data": {
      "text/html": [
       "<div>\n",
       "<style scoped>\n",
       "    .dataframe tbody tr th:only-of-type {\n",
       "        vertical-align: middle;\n",
       "    }\n",
       "\n",
       "    .dataframe tbody tr th {\n",
       "        vertical-align: top;\n",
       "    }\n",
       "\n",
       "    .dataframe thead th {\n",
       "        text-align: right;\n",
       "    }\n",
       "</style>\n",
       "<table border=\"1\" class=\"dataframe\">\n",
       "  <thead>\n",
       "    <tr style=\"text-align: right;\">\n",
       "      <th></th>\n",
       "      <th>fixture_id</th>\n",
       "      <th>country</th>\n",
       "      <th>league_name</th>\n",
       "      <th>league_id</th>\n",
       "      <th>league_type</th>\n",
       "      <th>league_season</th>\n",
       "      <th>fixture_date</th>\n",
       "      <th>fixture_round</th>\n",
       "      <th>fixture_status</th>\n",
       "      <th>fixture_elapsed</th>\n",
       "      <th>fixture_venue</th>\n",
       "      <th>fixture_referee</th>\n",
       "      <th>fixture_result_ht</th>\n",
       "      <th>fixture_result_ft</th>\n",
       "      <th>fixture_result_et</th>\n",
       "      <th>fixture_result_pen</th>\n",
       "      <th>home_team_name</th>\n",
       "      <th>home_team_id</th>\n",
       "      <th>away_team_name</th>\n",
       "      <th>away_team_id</th>\n",
       "      <th>home_goals</th>\n",
       "      <th>away_goals</th>\n",
       "      <th>home_shots_ont</th>\n",
       "      <th>away_shots_ont</th>\n",
       "      <th>home_shots_offt</th>\n",
       "      <th>away_shots_offt</th>\n",
       "      <th>home_shots_tot</th>\n",
       "      <th>away_shots_tot</th>\n",
       "      <th>home_shots_inb</th>\n",
       "      <th>away_shots_inb</th>\n",
       "      <th>home_shots_outb</th>\n",
       "      <th>away_shots_outb</th>\n",
       "      <th>home_passes_acc</th>\n",
       "      <th>away_passes_acc</th>\n",
       "      <th>home_passes_tot</th>\n",
       "      <th>away_passes_tot</th>\n",
       "      <th>home_passes_pct</th>\n",
       "      <th>away_passes_pct</th>\n",
       "      <th>home_possession</th>\n",
       "      <th>away_possession</th>\n",
       "      <th>home_corners</th>\n",
       "      <th>away_corners</th>\n",
       "      <th>home_offsides</th>\n",
       "      <th>away_offsides</th>\n",
       "      <th>home_fouls</th>\n",
       "      <th>away_fouls</th>\n",
       "      <th>home_yc</th>\n",
       "      <th>away_yc</th>\n",
       "      <th>home_rc</th>\n",
       "      <th>away_rc</th>\n",
       "      <th>home_gksaves</th>\n",
       "      <th>away_gksaves</th>\n",
       "      <th>home_shots_bl</th>\n",
       "      <th>away_shots_bl</th>\n",
       "    </tr>\n",
       "  </thead>\n",
       "  <tbody>\n",
       "  </tbody>\n",
       "</table>\n",
       "</div>"
      ],
      "text/plain": [
       "Empty DataFrame\n",
       "Columns: [fixture_id, country, league_name, league_id, league_type, league_season, fixture_date, fixture_round, fixture_status, fixture_elapsed, fixture_venue, fixture_referee, fixture_result_ht, fixture_result_ft, fixture_result_et, fixture_result_pen, home_team_name, home_team_id, away_team_name, away_team_id, home_goals, away_goals, home_shots_ont, away_shots_ont, home_shots_offt, away_shots_offt, home_shots_tot, away_shots_tot, home_shots_inb, away_shots_inb, home_shots_outb, away_shots_outb, home_passes_acc, away_passes_acc, home_passes_tot, away_passes_tot, home_passes_pct, away_passes_pct, home_possession, away_possession, home_corners, away_corners, home_offsides, away_offsides, home_fouls, away_fouls, home_yc, away_yc, home_rc, away_rc, home_gksaves, away_gksaves, home_shots_bl, away_shots_bl]\n",
       "Index: []"
      ]
     },
     "metadata": {},
     "output_type": "display_data"
    }
   ],
   "source": [
    "stats_shotsinb_clean = match_stats_clean[~match_stats_clean['home_shots_inb'].isnull()]\n",
    "\n",
    "for ha in ['home', 'away']:\n",
    "    display(stats_shotsinb_clean[\n",
    "        (stats_shotsinb_clean[f\"{ha}_shots_inb\"] + stats_shotsinb_clean[f\"{ha}_shots_outb\"]\n",
    "        ) != stats_shotsinb_clean[f\"{ha}_shots_tot\"]])\n"
   ]
  },
  {
   "cell_type": "markdown",
   "metadata": {},
   "source": [
    "### 2.3) Passes_pct = passes_act/passes_tot"
   ]
  },
  {
   "cell_type": "code",
   "execution_count": 8,
   "metadata": {},
   "outputs": [
    {
     "data": {
      "text/html": [
       "<div>\n",
       "<style scoped>\n",
       "    .dataframe tbody tr th:only-of-type {\n",
       "        vertical-align: middle;\n",
       "    }\n",
       "\n",
       "    .dataframe tbody tr th {\n",
       "        vertical-align: top;\n",
       "    }\n",
       "\n",
       "    .dataframe thead th {\n",
       "        text-align: right;\n",
       "    }\n",
       "</style>\n",
       "<table border=\"1\" class=\"dataframe\">\n",
       "  <thead>\n",
       "    <tr style=\"text-align: right;\">\n",
       "      <th></th>\n",
       "      <th>fixture_date</th>\n",
       "      <th>home_team_name</th>\n",
       "      <th>away_team_name</th>\n",
       "      <th>home_passes_acc</th>\n",
       "      <th>home_passes_tot</th>\n",
       "      <th>home_passes_pct</th>\n",
       "      <th>calc_home_passes_pct</th>\n",
       "    </tr>\n",
       "  </thead>\n",
       "  <tbody>\n",
       "  </tbody>\n",
       "</table>\n",
       "</div>"
      ],
      "text/plain": [
       "Empty DataFrame\n",
       "Columns: [fixture_date, home_team_name, away_team_name, home_passes_acc, home_passes_tot, home_passes_pct, calc_home_passes_pct]\n",
       "Index: []"
      ]
     },
     "metadata": {},
     "output_type": "display_data"
    },
    {
     "data": {
      "text/html": [
       "<div>\n",
       "<style scoped>\n",
       "    .dataframe tbody tr th:only-of-type {\n",
       "        vertical-align: middle;\n",
       "    }\n",
       "\n",
       "    .dataframe tbody tr th {\n",
       "        vertical-align: top;\n",
       "    }\n",
       "\n",
       "    .dataframe thead th {\n",
       "        text-align: right;\n",
       "    }\n",
       "</style>\n",
       "<table border=\"1\" class=\"dataframe\">\n",
       "  <thead>\n",
       "    <tr style=\"text-align: right;\">\n",
       "      <th></th>\n",
       "      <th>fixture_date</th>\n",
       "      <th>home_team_name</th>\n",
       "      <th>away_team_name</th>\n",
       "      <th>away_passes_acc</th>\n",
       "      <th>away_passes_tot</th>\n",
       "      <th>away_passes_pct</th>\n",
       "      <th>calc_away_passes_pct</th>\n",
       "    </tr>\n",
       "  </thead>\n",
       "  <tbody>\n",
       "  </tbody>\n",
       "</table>\n",
       "</div>"
      ],
      "text/plain": [
       "Empty DataFrame\n",
       "Columns: [fixture_date, home_team_name, away_team_name, away_passes_acc, away_passes_tot, away_passes_pct, calc_away_passes_pct]\n",
       "Index: []"
      ]
     },
     "metadata": {},
     "output_type": "display_data"
    }
   ],
   "source": [
    "stats_no_null_pass = match_stats_clean[~match_stats_clean.home_passes_tot.isnull()]\n",
    "\n",
    "for ha in ['home', 'away']:\n",
    "    \n",
    "    pacces_pct_wrong = stats_no_null_pass[\n",
    "        (stats_no_null_pass[f\"{ha}_passes_acc\"]/stats_no_null_pass[f\"{ha}_passes_tot\"]).apply(lambda x: round(x, 2)\n",
    "                                                                    ) != stats_no_null_pass[f\"{ha}_passes_pct\"]]\n",
    "    pacces_pct_wrong[f\"calc_{ha}_passes_pct\"] = (\n",
    "        pacces_pct_wrong[f\"{ha}_passes_acc\"] / pacces_pct_wrong[f\"{ha}_passes_tot\"]\n",
    "        ).apply(lambda x: round(x, 2))\n",
    "\n",
    "    display(pacces_pct_wrong[[\n",
    "        'fixture_date', 'home_team_name', 'away_team_name',\n",
    "        f\"{ha}_passes_acc\", f\"{ha}_passes_tot\", f\"{ha}_passes_pct\", f\"calc_{ha}_passes_pct\"]])\n"
   ]
  },
  {
   "cell_type": "markdown",
   "metadata": {},
   "source": [
    "### 2.4) Sum(Home_possession + away_possession) = 1"
   ]
  },
  {
   "cell_type": "code",
   "execution_count": 9,
   "metadata": {},
   "outputs": [
    {
     "name": "stdout",
     "output_type": "stream",
     "text": [
      "All sum to 1\n"
     ]
    }
   ],
   "source": [
    "possession_sum_wrong = match_stats_clean[\n",
    "    (match_stats_clean.home_possession + match_stats_clean.away_possession) != 1]\n",
    "if len(possession_sum_wrong) > 0:    \n",
    "    possession_sum_wrong['calc_possession_sum'] = (\n",
    "        match_stats_clean.home_possession + match_stats_clean.away_possession)\n",
    "\n",
    "    display(possession_sum_wrong[[\n",
    "        'fixture_date', 'home_team_name', 'away_team_name',\n",
    "        'home_possession', 'away_possession', 'calc_possession_sum']])\n",
    "else:\n",
    "    print(\"All sum to 1\")"
   ]
  },
  {
   "cell_type": "code",
   "execution_count": null,
   "metadata": {},
   "outputs": [],
   "source": []
  }
 ],
 "metadata": {
  "kernelspec": {
   "display_name": ".venv_stat_proj",
   "language": "python",
   "name": ".venv_stat_proj"
  },
  "language_info": {
   "codemirror_mode": {
    "name": "ipython",
    "version": 3
   },
   "file_extension": ".py",
   "mimetype": "text/x-python",
   "name": "python",
   "nbconvert_exporter": "python",
   "pygments_lexer": "ipython3",
   "version": "3.7.3"
  }
 },
 "nbformat": 4,
 "nbformat_minor": 2
}
